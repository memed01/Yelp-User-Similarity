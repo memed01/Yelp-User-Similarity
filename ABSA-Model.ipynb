{
 "cells": [
  {
   "cell_type": "markdown",
   "metadata": {},
   "source": [
    "#### Build Naive Bayes Text Classifier Based off of 2014-15 ABSA Data"
   ]
  },
  {
   "cell_type": "code",
   "execution_count": 1,
   "metadata": {
    "collapsed": true
   },
   "outputs": [],
   "source": [
    "import numpy as np\n",
    "import pandas as pd\n",
    "\n",
    "from ABSAParser import parse_data_2014, parse_data_2015\n",
    "from sklearn.cross_validation import train_test_split\n",
    "from sklearn.naive_bayes import BernoulliNB, MultinomialNB\n",
    "from sklearn.feature_extraction.text import CountVectorizer, TfidfVectorizer, ENGLISH_STOP_WORDS\n",
    "from sklearn.metrics import accuracy_score, confusion_matrix"
   ]
  },
  {
   "cell_type": "markdown",
   "metadata": {},
   "source": [
    "#### Read in ABSA Data"
   ]
  },
  {
   "cell_type": "code",
   "execution_count": 2,
   "metadata": {
    "collapsed": true
   },
   "outputs": [],
   "source": [
    "absa_data = pd.DataFrame() #Initialize Empty Container"
   ]
  },
  {
   "cell_type": "code",
   "execution_count": 3,
   "metadata": {
    "collapsed": true
   },
   "outputs": [],
   "source": [
    "def stack_data(parse_function, xml_path):\n",
    "    df = parse_function(xml_path)\n",
    "    \n",
    "    return pd.concat([absa_data, df], axis=0)"
   ]
  },
  {
   "cell_type": "code",
   "execution_count": 8,
   "metadata": {
    "collapsed": false
   },
   "outputs": [
    {
     "name": "stdout",
     "output_type": "stream",
     "text": [
      "(13494, 7)\n"
     ]
    },
    {
     "data": {
      "text/html": [
       "<div>\n",
       "<table border=\"1\" class=\"dataframe\">\n",
       "  <thead>\n",
       "    <tr style=\"text-align: right;\">\n",
       "      <th></th>\n",
       "      <th>category</th>\n",
       "      <th>sentence_id</th>\n",
       "      <th>text</th>\n",
       "      <th>topic_ambience</th>\n",
       "      <th>topic_food</th>\n",
       "      <th>topic_service</th>\n",
       "      <th>topic_value</th>\n",
       "    </tr>\n",
       "  </thead>\n",
       "  <tbody>\n",
       "    <tr>\n",
       "      <th>0</th>\n",
       "      <td>NaN</td>\n",
       "      <td>1000</td>\n",
       "      <td>The food is good, especially their more basic ...</td>\n",
       "      <td>0</td>\n",
       "      <td>0</td>\n",
       "      <td>0</td>\n",
       "      <td>0</td>\n",
       "    </tr>\n",
       "    <tr>\n",
       "      <th>1</th>\n",
       "      <td>NaN</td>\n",
       "      <td>1001</td>\n",
       "      <td>This is a great place to take out-of-towners, ...</td>\n",
       "      <td>0</td>\n",
       "      <td>0</td>\n",
       "      <td>0</td>\n",
       "      <td>0</td>\n",
       "    </tr>\n",
       "    <tr>\n",
       "      <th>2</th>\n",
       "      <td>NaN</td>\n",
       "      <td>1002</td>\n",
       "      <td>The view is spectacular, and the food is great.</td>\n",
       "      <td>0</td>\n",
       "      <td>0</td>\n",
       "      <td>0</td>\n",
       "      <td>0</td>\n",
       "    </tr>\n",
       "    <tr>\n",
       "      <th>3</th>\n",
       "      <td>NaN</td>\n",
       "      <td>1003</td>\n",
       "      <td>Wonderful strawberry daiquiries as well!</td>\n",
       "      <td>0</td>\n",
       "      <td>0</td>\n",
       "      <td>0</td>\n",
       "      <td>0</td>\n",
       "    </tr>\n",
       "    <tr>\n",
       "      <th>4</th>\n",
       "      <td>NaN</td>\n",
       "      <td>1004</td>\n",
       "      <td>Definitely worth the trip to Battery Park City!</td>\n",
       "      <td>0</td>\n",
       "      <td>0</td>\n",
       "      <td>0</td>\n",
       "      <td>0</td>\n",
       "    </tr>\n",
       "  </tbody>\n",
       "</table>\n",
       "</div>"
      ],
      "text/plain": [
       "  category sentence_id                                               text  \\\n",
       "0      NaN        1000  The food is good, especially their more basic ...   \n",
       "1      NaN        1001  This is a great place to take out-of-towners, ...   \n",
       "2      NaN        1002    The view is spectacular, and the food is great.   \n",
       "3      NaN        1003           Wonderful strawberry daiquiries as well!   \n",
       "4      NaN        1004    Definitely worth the trip to Battery Park City!   \n",
       "\n",
       "   topic_ambience  topic_food  topic_service  topic_value  \n",
       "0               0           0              0            0  \n",
       "1               0           0              0            0  \n",
       "2               0           0              0            0  \n",
       "3               0           0              0            0  \n",
       "4               0           0              0            0  "
      ]
     },
     "execution_count": 8,
     "metadata": {},
     "output_type": "execute_result"
    }
   ],
   "source": [
    "absa_data = stack_data(parse_data_2014, \"data/ABSA/2014/Restaurants_Train_v2.xml\")\n",
    "absa_data = stack_data(parse_data_2014, \"data/ABSA/2014/restaurants_Trial.xml\")\n",
    "absa_data = stack_data(parse_data_2014, \"data/ABSA/2014/Restaurants_Test_Data_phaseB.xml\")\n",
    "absa_data = stack_data(parse_data_2015, \"data/ABSA/2015/ABSA-15_Restaurants_Train_Final.xml\")\n",
    "absa_data = stack_data(parse_data_2015, \"data/ABSA/2015/ABSA15_Restaurants_Test.xml\")\n",
    "\n",
    "print absa_data.shape\n",
    "absa_data.head(5)"
   ]
  },
  {
   "cell_type": "markdown",
   "metadata": {},
   "source": [
    "#### Set Topic Binaries and Aggregate to Sentence Level"
   ]
  },
  {
   "cell_type": "code",
   "execution_count": 9,
   "metadata": {
    "collapsed": false
   },
   "outputs": [
    {
     "data": {
      "text/plain": [
       "NaN                         6143\n",
       "food                        1691\n",
       "anecdotes/miscellaneous     1412\n",
       "FOOD#QUALITY                 852\n",
       "service                      777\n",
       "ambience                     556\n",
       "SERVICE#GENERAL              443\n",
       "RESTAURANT#GENERAL           416\n",
       "price                        416\n",
       "AMBIENCE#GENERAL             260\n",
       "FOOD#STYLE_OPTIONS           133\n",
       "RESTAURANT#MISCELLANEOUS     100\n",
       "FOOD#PRICES                   85\n",
       "RESTAURANT#PRICES             83\n",
       "DRINKS#QUALITY                46\n",
       "DRINKS#STYLE_OPTIONS          32\n",
       "LOCATION#GENERAL              28\n",
       "DRINKS#PRICES                 20\n",
       "FOOD#GENERAL                   1\n",
       "Name: category, dtype: int64"
      ]
     },
     "execution_count": 9,
     "metadata": {},
     "output_type": "execute_result"
    }
   ],
   "source": [
    "absa_data.category.value_counts(dropna=False)"
   ]
  },
  {
   "cell_type": "code",
   "execution_count": 10,
   "metadata": {
    "collapsed": false
   },
   "outputs": [
    {
     "name": "stdout",
     "output_type": "stream",
     "text": [
      "(5845, 6)\n",
      "0    3404\n",
      "1    2441\n",
      "Name: topic_food, dtype: int64\n",
      "0    4661\n",
      "1    1184\n",
      "Name: topic_service, dtype: int64\n",
      "0    5065\n",
      "1     780\n",
      "Name: topic_ambience, dtype: int64\n",
      "0    5265\n",
      "1     580\n",
      "Name: topic_value, dtype: int64\n"
     ]
    },
    {
     "data": {
      "text/html": [
       "<div>\n",
       "<table border=\"1\" class=\"dataframe\">\n",
       "  <thead>\n",
       "    <tr style=\"text-align: right;\">\n",
       "      <th></th>\n",
       "      <th>sentence_id</th>\n",
       "      <th>text</th>\n",
       "      <th>topic_food</th>\n",
       "      <th>topic_service</th>\n",
       "      <th>topic_ambience</th>\n",
       "      <th>topic_value</th>\n",
       "    </tr>\n",
       "  </thead>\n",
       "  <tbody>\n",
       "    <tr>\n",
       "      <th>0</th>\n",
       "      <td>1000</td>\n",
       "      <td>The food is good, especially their more basic ...</td>\n",
       "      <td>1</td>\n",
       "      <td>0</td>\n",
       "      <td>0</td>\n",
       "      <td>0</td>\n",
       "    </tr>\n",
       "    <tr>\n",
       "      <th>1</th>\n",
       "      <td>1001</td>\n",
       "      <td>This is a great place to take out-of-towners, ...</td>\n",
       "      <td>0</td>\n",
       "      <td>0</td>\n",
       "      <td>1</td>\n",
       "      <td>0</td>\n",
       "    </tr>\n",
       "    <tr>\n",
       "      <th>2</th>\n",
       "      <td>1002</td>\n",
       "      <td>The view is spectacular, and the food is great.</td>\n",
       "      <td>1</td>\n",
       "      <td>0</td>\n",
       "      <td>1</td>\n",
       "      <td>0</td>\n",
       "    </tr>\n",
       "    <tr>\n",
       "      <th>3</th>\n",
       "      <td>1003</td>\n",
       "      <td>Wonderful strawberry daiquiries as well!</td>\n",
       "      <td>1</td>\n",
       "      <td>0</td>\n",
       "      <td>0</td>\n",
       "      <td>0</td>\n",
       "    </tr>\n",
       "    <tr>\n",
       "      <th>4</th>\n",
       "      <td>1004</td>\n",
       "      <td>Definitely worth the trip to Battery Park City!</td>\n",
       "      <td>0</td>\n",
       "      <td>0</td>\n",
       "      <td>0</td>\n",
       "      <td>0</td>\n",
       "    </tr>\n",
       "    <tr>\n",
       "      <th>5</th>\n",
       "      <td>1004293:0</td>\n",
       "      <td>Judging from previous posts this used to be a ...</td>\n",
       "      <td>0</td>\n",
       "      <td>0</td>\n",
       "      <td>0</td>\n",
       "      <td>0</td>\n",
       "    </tr>\n",
       "    <tr>\n",
       "      <th>6</th>\n",
       "      <td>1004293:1</td>\n",
       "      <td>We, there were four of us, arrived at noon - t...</td>\n",
       "      <td>0</td>\n",
       "      <td>1</td>\n",
       "      <td>0</td>\n",
       "      <td>0</td>\n",
       "    </tr>\n",
       "    <tr>\n",
       "      <th>7</th>\n",
       "      <td>1004293:2</td>\n",
       "      <td>They never brought us complimentary noodles, i...</td>\n",
       "      <td>0</td>\n",
       "      <td>1</td>\n",
       "      <td>0</td>\n",
       "      <td>0</td>\n",
       "    </tr>\n",
       "    <tr>\n",
       "      <th>8</th>\n",
       "      <td>1004293:3</td>\n",
       "      <td>The food was lousy - too sweet or too salty an...</td>\n",
       "      <td>1</td>\n",
       "      <td>0</td>\n",
       "      <td>0</td>\n",
       "      <td>0</td>\n",
       "    </tr>\n",
       "    <tr>\n",
       "      <th>9</th>\n",
       "      <td>1004293:4</td>\n",
       "      <td>After all that, they complained to me about th...</td>\n",
       "      <td>0</td>\n",
       "      <td>1</td>\n",
       "      <td>0</td>\n",
       "      <td>0</td>\n",
       "    </tr>\n",
       "  </tbody>\n",
       "</table>\n",
       "</div>"
      ],
      "text/plain": [
       "  sentence_id                                               text  topic_food  \\\n",
       "0        1000  The food is good, especially their more basic ...           1   \n",
       "1        1001  This is a great place to take out-of-towners, ...           0   \n",
       "2        1002    The view is spectacular, and the food is great.           1   \n",
       "3        1003           Wonderful strawberry daiquiries as well!           1   \n",
       "4        1004    Definitely worth the trip to Battery Park City!           0   \n",
       "5   1004293:0  Judging from previous posts this used to be a ...           0   \n",
       "6   1004293:1  We, there were four of us, arrived at noon - t...           0   \n",
       "7   1004293:2  They never brought us complimentary noodles, i...           0   \n",
       "8   1004293:3  The food was lousy - too sweet or too salty an...           1   \n",
       "9   1004293:4  After all that, they complained to me about th...           0   \n",
       "\n",
       "   topic_service  topic_ambience  topic_value  \n",
       "0              0               0            0  \n",
       "1              0               1            0  \n",
       "2              0               1            0  \n",
       "3              0               0            0  \n",
       "4              0               0            0  \n",
       "5              0               0            0  \n",
       "6              1               0            0  \n",
       "7              1               0            0  \n",
       "8              0               0            0  \n",
       "9              1               0            0  "
      ]
     },
     "execution_count": 10,
     "metadata": {},
     "output_type": "execute_result"
    }
   ],
   "source": [
    "food = [\"food\",\"FOOD#QUALITY\",\"FOOD#STYLE_OPTIONS\",\"DRINKS#QUALITY\",\"DRINKS#STYLE_OPTIONS\",\"FOOD#GENERAL\"]\n",
    "service = [\"service\",\"SERVICE#GENERAL\"]\n",
    "ambience = [\"ambience\",\"AMBIENCE#GENERAL\"]\n",
    "value = [\"price\",\"FOOD#PRICES\",\"RESTAURANT#PRICES\",\"DRINKS#PRICES\"]\n",
    "\n",
    "topics = [\"topic_food\",\"topic_service\",\"topic_ambience\",\"topic_value\"]\n",
    "absa_data[\"topic_food\"] = 0\n",
    "absa_data[\"topic_service\"] = 0\n",
    "absa_data[\"topic_ambience\"] = 0 \n",
    "absa_data[\"topic_value\"] = 0\n",
    "\n",
    "absa_data.ix[absa_data.category.isin(food), \"topic_food\"] = 1\n",
    "absa_data.ix[absa_data.category.isin(service), \"topic_service\"] = 1\n",
    "absa_data.ix[absa_data.category.isin(ambience), \"topic_ambience\"] = 1\n",
    "absa_data.ix[absa_data.category.isin(value), \"topic_value\"] = 1\n",
    "\n",
    "absa_data = absa_data.groupby(by=[\"sentence_id\",\"text\"], as_index=False)[topics].max()\n",
    "\n",
    "print absa_data.shape\n",
    "print absa_data.topic_food.value_counts(dropna=False)\n",
    "print absa_data.topic_service.value_counts(dropna=False)\n",
    "print absa_data.topic_ambience.value_counts(dropna=False)\n",
    "print absa_data.topic_value.value_counts(dropna=False)\n",
    "absa_data.head(10)"
   ]
  },
  {
   "cell_type": "markdown",
   "metadata": {},
   "source": [
    "#### Split into Training and Test"
   ]
  },
  {
   "cell_type": "code",
   "execution_count": 13,
   "metadata": {
    "collapsed": false
   },
   "outputs": [
    {
     "name": "stdout",
     "output_type": "stream",
     "text": [
      "(4383, 6)\n",
      "(1462, 6)\n"
     ]
    }
   ],
   "source": [
    "absa_train, absa_test = train_test_split(absa_data, test_size=0.25, random_state=4444)\n",
    "print absa_train.shape\n",
    "print absa_test.shape"
   ]
  },
  {
   "cell_type": "markdown",
   "metadata": {},
   "source": [
    "#### Train Naive Bayes Classifier & Output Accuracy and Confusion Matrix"
   ]
  },
  {
   "cell_type": "code",
   "execution_count": 14,
   "metadata": {
    "collapsed": true
   },
   "outputs": [],
   "source": [
    "def naive_bayes(train, test, topic):\n",
    "    vectorizer = CountVectorizer(ngram_range=(1,1), min_df=2, max_df=0.2, stop_words=\"english\",\\\n",
    "                                 binary=True, token_pattern=\"\\\\b[a-z][a-z][a-z]+\\\\b\")\n",
    "    \n",
    "    vectorizer.fit(train[\"text\"])\n",
    "    \n",
    "    train_X = vectorizer.transform(train[\"text\"])\n",
    "    test_X = vectorizer.transform(test[\"text\"])\n",
    "    \n",
    "    train_y = train[topic]\n",
    "    test_y = test[topic]\n",
    "    \n",
    "    clf = BernoulliNB().fit(train_X, train_y)\n",
    "    \n",
    "    print accuracy_score(test_y, clf.predict(test_X))\n",
    "    print confusion_matrix(test_y, clf.predict(test_X))\n",
    "    print \"\""
   ]
  },
  {
   "cell_type": "code",
   "execution_count": 16,
   "metadata": {
    "collapsed": false
   },
   "outputs": [
    {
     "name": "stdout",
     "output_type": "stream",
     "text": [
      "Food: \n",
      "0.883720930233\n",
      "[[816  54]\n",
      " [116 476]]\n",
      "\n",
      "Service: \n",
      "0.919288645691\n",
      "[[1131   24]\n",
      " [  94  213]]\n",
      "\n",
      "Ambience: \n",
      "0.925444596443\n",
      "[[1249   15]\n",
      " [  94  104]]\n",
      "\n",
      "Value: \n",
      "0.932968536252\n",
      "[[1311    9]\n",
      " [  89   53]]\n",
      "\n"
     ]
    }
   ],
   "source": [
    "print \"Food: \"\n",
    "naive_bayes(absa_train, absa_test, \"topic_food\")\n",
    "\n",
    "print \"Service: \"\n",
    "naive_bayes(absa_train, absa_test, \"topic_service\")\n",
    "\n",
    "print \"Ambience: \"\n",
    "naive_bayes(absa_train, absa_test, \"topic_ambience\")\n",
    "\n",
    "print \"Value: \"\n",
    "naive_bayes(absa_train, absa_test, \"topic_value\")"
   ]
  },
  {
   "cell_type": "markdown",
   "metadata": {},
   "source": [
    "#### Model is Suffering Slightly on Recall, is underpredicting topics. Upsample to Balance Classes"
   ]
  },
  {
   "cell_type": "code",
   "execution_count": 18,
   "metadata": {
    "collapsed": false
   },
   "outputs": [],
   "source": [
    "def upsampler(df, topic, p1):  #p1 = (arbitrary %)\n",
    "    df_1 = df[df[topic]==1].sample(n=n1, replace=True).copy()\n",
    "    df_0 = df[df[topic]==0].sample(n=n0, replace=True).copy()\n",
    "    \n",
    "    return pd.concat([df_1,df_0], axis=0)\n",
    "\n",
    "absa_train_balance_food = upsampler(absa_train, \"topic_food\", 1450,) #approx as if training set was split 50/50 on each\n",
    "absa_train_balance_serv = upsampler(absa_train, \"topic_service\", 2200)\n",
    "absa_train_balance_amb = upsampler(absa_train, \"topic_ambience\", 2200)\n",
    "absa_train_balance_val = upsampler(absa_train, \"topic_value\", 2200)"
   ]
  },
  {
   "cell_type": "code",
   "execution_count": 19,
   "metadata": {
    "collapsed": false
   },
   "outputs": [
    {
     "name": "stdout",
     "output_type": "stream",
     "text": [
      "Food: \n",
      "0.876196990424\n",
      "[[788  82]\n",
      " [ 99 493]]\n",
      "\n",
      "Service: \n",
      "0.846785225718\n",
      "[[1029  126]\n",
      " [  98  209]]\n",
      "\n",
      "Ambience: \n",
      "0.913132694938\n",
      "[[1169   95]\n",
      " [  32  166]]\n",
      "\n",
      "Value: \n",
      "0.870041039672\n",
      "[[1155  165]\n",
      " [  25  117]]\n",
      "\n"
     ]
    }
   ],
   "source": [
    "print \"Food: \"\n",
    "naive_bayes(absa_train_balance_food, absa_test, \"topic_food\")\n",
    "\n",
    "print \"Service: \"\n",
    "naive_bayes(absa_train_balance_serv, absa_test, \"topic_service\")\n",
    "\n",
    "print \"Ambience: \"\n",
    "naive_bayes(absa_train_balance_amb, absa_test, \"topic_ambience\")\n",
    "\n",
    "print \"Value: \"\n",
    "naive_bayes(absa_train_balance_val, absa_test, \"topic_value\")"
   ]
  },
  {
   "cell_type": "markdown",
   "metadata": {},
   "source": [
    "#### play around with different upsampling ratios, oversampling rates"
   ]
  },
  {
   "cell_type": "code",
   "execution_count": null,
   "metadata": {
    "collapsed": true
   },
   "outputs": [],
   "source": []
  }
 ],
 "metadata": {
  "kernelspec": {
   "display_name": "Python 2",
   "language": "python",
   "name": "python2"
  },
  "language_info": {
   "codemirror_mode": {
    "name": "ipython",
    "version": 2
   },
   "file_extension": ".py",
   "mimetype": "text/x-python",
   "name": "python",
   "nbconvert_exporter": "python",
   "pygments_lexer": "ipython2",
   "version": "2.7.10"
  }
 },
 "nbformat": 4,
 "nbformat_minor": 0
}
