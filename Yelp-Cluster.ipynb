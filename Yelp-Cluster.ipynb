{
 "cells": [
  {
   "cell_type": "markdown",
   "metadata": {},
   "source": [
    "#### Explore and Cluster User-Level Data"
   ]
  },
  {
   "cell_type": "code",
   "execution_count": 1,
   "metadata": {
    "collapsed": false
   },
   "outputs": [],
   "source": [
    "import warnings\n",
    "import numpy as np\n",
    "import pandas as pd\n",
    "import seaborn as sns\n",
    "from matplotlib import pyplot as plt\n",
    "%matplotlib inline\n",
    "\n",
    "from sklearn.decomposition import PCA\n",
    "from sklearn.cluster import MiniBatchKMeans, DBSCAN\n",
    "\n",
    "warnings.filterwarnings(\"ignore\", category=DeprecationWarning) "
   ]
  },
  {
   "cell_type": "code",
   "execution_count": null,
   "metadata": {
    "collapsed": true
   },
   "outputs": [],
   "source": [
    "#Function to Print Percentiles (for Cleaning)\n",
    "def percentiles(df, variable):\n",
    "    print \"Min:  \"+str(df[variable].quantile(q=0.00))\n",
    "    print \"1st:  \"+str(df[variable].quantile(q=0.01))\n",
    "    print \"5th:  \"+str(df[variable].quantile(q=0.05))\n",
    "    print \"10th: \"+str(df[variable].quantile(q=0.10))\n",
    "    print \"25th: \"+str(df[variable].quantile(q=0.25))\n",
    "    print \"50th: \"+str(df[variable].quantile(q=0.50))\n",
    "    print \"75th: \"+str(df[variable].quantile(q=0.75))\n",
    "    print \"90th: \"+str(df[variable].quantile(q=0.90))\n",
    "    print \"95th: \"+str(df[variable].quantile(q=0.95))\n",
    "    print \"99th: \"+str(df[variable].quantile(q=0.99))\n",
    "    print \"Max:  \"+str(df[variable].quantile(q=1.00))"
   ]
  },
  {
   "cell_type": "code",
   "execution_count": null,
   "metadata": {
    "collapsed": false
   },
   "outputs": [],
   "source": [
    "user = pd.read_pickle(\"data/yelp/dataframes/yelp_review_user.pkl\")\n",
    "user.head(5)"
   ]
  },
  {
   "cell_type": "code",
   "execution_count": null,
   "metadata": {
    "collapsed": false
   },
   "outputs": [],
   "source": [
    "##Look At Distribution of Total # Relevant\n",
    "print \"Total Sentences...\"\n",
    "percentiles(user, \"total\")\n",
    "\n",
    "print \"Relevant Sentences...\"\n",
    "percentiles(user, \"relevant\")"
   ]
  },
  {
   "cell_type": "markdown",
   "metadata": {
    "collapsed": false
   },
   "source": [
    "#### Let's Focus on users in the 75th - 99th percentile range"
   ]
  },
  {
   "cell_type": "code",
   "execution_count": null,
   "metadata": {
    "collapsed": false
   },
   "outputs": [],
   "source": [
    "user = user[(user.relevant>=12) & (user.relevant<=219)]\n",
    "user.reset_index(drop=True, inplace=True)\n",
    "print user.location.value_counts()"
   ]
  },
  {
   "cell_type": "markdown",
   "metadata": {
    "collapsed": false
   },
   "source": [
    "#### Calculate % Of Each Topic Discussed"
   ]
  },
  {
   "cell_type": "code",
   "execution_count": null,
   "metadata": {
    "collapsed": false
   },
   "outputs": [],
   "source": [
    "user[\"pct_food\"] = user[\"topic_food\"] / user[\"relevant\"]\n",
    "user[\"pct_service\"] = user[\"topic_service\"] / user[\"relevant\"]\n",
    "user[\"pct_ambience\"] = user[\"topic_ambience\"] / user[\"relevant\"]\n",
    "user[\"pct_value\"] = user[\"topic_value\"] / user[\"relevant\"]\n",
    "user.head(10)"
   ]
  },
  {
   "cell_type": "markdown",
   "metadata": {
    "collapsed": true
   },
   "source": [
    "#### Look at % Across Data"
   ]
  },
  {
   "cell_type": "code",
   "execution_count": null,
   "metadata": {
    "collapsed": false
   },
   "outputs": [],
   "source": [
    "plt.figure(figsize=(20,10))\n",
    "\n",
    "plt.subplot(2,2,1)\n",
    "plt.hist(user.pct_food, bins=50, normed=True, cumulative=True)\n",
    "plt.title(\"Food\", fontsize=22)\n",
    "\n",
    "plt.subplot(2,2,2)\n",
    "plt.hist(user.pct_service, bins=50, normed=True, cumulative=True)\n",
    "plt.title(\"Service\", fontsize=22)\n",
    "\n",
    "plt.subplot(2,2,3)\n",
    "plt.hist(user.pct_ambience, bins=50, normed=True, cumulative=True)\n",
    "plt.title(\"Ambience\", fontsize=22)\n",
    "\n",
    "plt.subplot(2,2,4)\n",
    "plt.hist(user.pct_value, bins=50, normed=True, cumulative=True)\n",
    "plt.title(\"Value\", fontsize=22)"
   ]
  },
  {
   "cell_type": "markdown",
   "metadata": {},
   "source": [
    "#### Apply PCA for Dimentionality Reduction"
   ]
  },
  {
   "cell_type": "code",
   "execution_count": null,
   "metadata": {
    "collapsed": false
   },
   "outputs": [],
   "source": [
    "reducer = PCA(n_components=2, whiten=True)\n",
    "reduced = reducer.fit_transform(user[[\"pct_food\",\"pct_service\",\"pct_ambience\",\"pct_value\"]])\n",
    "\n",
    "reduced = pd.DataFrame(reduced, columns=[\"PCA_1\", \"PCA_2\"])\n",
    "reduced.head(5)"
   ]
  },
  {
   "cell_type": "code",
   "execution_count": null,
   "metadata": {
    "collapsed": false
   },
   "outputs": [],
   "source": [
    "user = pd.concat([user, reduced], axis=1)\n",
    "user.head(5)"
   ]
  },
  {
   "cell_type": "code",
   "execution_count": null,
   "metadata": {
    "collapsed": false
   },
   "outputs": [],
   "source": [
    "user.location.value_counts()"
   ]
  },
  {
   "cell_type": "code",
   "execution_count": null,
   "metadata": {
    "collapsed": false
   },
   "outputs": [],
   "source": [
    "plt.figure(figsize=(20,10))\n",
    "plt.scatter(user.PCA_1, user.PCA_2)\n",
    "plt.title(\"User Topics PCA\", fontsize=22)"
   ]
  },
  {
   "cell_type": "markdown",
   "metadata": {
    "collapsed": true
   },
   "source": [
    "#### Cluster Yelp Users"
   ]
  },
  {
   "cell_type": "code",
   "execution_count": null,
   "metadata": {
    "collapsed": false
   },
   "outputs": [],
   "source": [
    "##Function to Run DBSCAN Clustering\n",
    "def dbscan(df, eps, min_samples):\n",
    "    model = DBSCAN(eps=eps, min_samples=min_samples)\n",
    "    clusters = pd.Series(model.fit_predict(df[[\"PCA_1\",\"PCA_2\"]]), name=\"cluster\")\n",
    "    \n",
    "    return pd.concat([df, clusters], axis=1)\n",
    "\n",
    "##Function to Run Mini-Batch K-Means Clustering\n",
    "def kmeans(df, n_clusters):\n",
    "    model = MiniBatchKMeans(n_clusters=n_clusters)\n",
    "    clusters = pd.Series(model.fit_predict(df[[\"PCA_1\",\"PCA_2\"]]), name=\"cluster\")\n",
    "    \n",
    "    return pd.concat([df, clusters], axis=1)"
   ]
  },
  {
   "cell_type": "code",
   "execution_count": null,
   "metadata": {
    "collapsed": false
   },
   "outputs": [],
   "source": [
    "plt.figure(figsize=(20,10))\n",
    "clustered = dbscan(user, eps=0.17, min_samples=35)\n",
    "#clustered = kmeans(user, n_clusters=3)\n",
    "\n",
    "print clustered[\"cluster\"].nunique()\n",
    "print clustered[\"cluster\"].value_counts()\n",
    "print clustered.groupby(by=\"cluster\")[[\"pct_food\",\"pct_service\",\"pct_ambience\",\"pct_value\"]].mean()\n",
    "plt.scatter(clustered.PCA_1, clustered.PCA_2, c=clustered.cluster)"
   ]
  },
  {
   "cell_type": "markdown",
   "metadata": {},
   "source": [
    "Money! - with parameters eps=0.17 and min_samples=0.75 we've managed to split out people out into outliers and core"
   ]
  },
  {
   "cell_type": "code",
   "execution_count": null,
   "metadata": {
    "collapsed": true
   },
   "outputs": [],
   "source": []
  },
  {
   "cell_type": "code",
   "execution_count": null,
   "metadata": {
    "collapsed": true
   },
   "outputs": [],
   "source": []
  },
  {
   "cell_type": "markdown",
   "metadata": {},
   "source": [
    "#### Let's Look at the chacteristics of our two clusters"
   ]
  },
  {
   "cell_type": "code",
   "execution_count": null,
   "metadata": {
    "collapsed": true
   },
   "outputs": [],
   "source": [
    "def plot_by_cluster(df):\n",
    "    sub0 = df[df.cluster==0]\n",
    "    sub1 = df[df.cluster==-1]\n",
    "    \n",
    "    plt.figure(figsize=(20,10))\n",
    "    plt.subplot(1,2,1)\n",
    "    plt.scatter(sub0.PCA_1, sub0.PCA_2)\n",
    "    plt.title(\"Cluster 0\", fontsize=20)\n",
    "    \n",
    "    plt.subplot(1,2,2)\n",
    "    plt.scatter(sub1.PCA_1, sub1.PCA_2)\n",
    "    plt.title(\"Cluster -1\", fontsize=20)"
   ]
  },
  {
   "cell_type": "code",
   "execution_count": null,
   "metadata": {
    "collapsed": false
   },
   "outputs": [],
   "source": [
    "plot_by_cluster(clustered)"
   ]
  },
  {
   "cell_type": "code",
   "execution_count": null,
   "metadata": {
    "collapsed": false
   },
   "outputs": [],
   "source": [
    "print clustered.cluster.value_counts()\n",
    "clustered.groupby(by=\"cluster\")[[\"relevant\",\"pct_food\",\"pct_service\",\"pct_ambience\",\"pct_value\"]].mean()"
   ]
  },
  {
   "cell_type": "code",
   "execution_count": null,
   "metadata": {
    "collapsed": false
   },
   "outputs": [],
   "source": [
    "clustered.groupby(by=\"cluster\")[[\"pct_food\",\"pct_service\",\"pct_ambience\",\"pct_value\"]].std()"
   ]
  },
  {
   "cell_type": "markdown",
   "metadata": {},
   "source": [
    "#### Split Out into \"Core\" and \"Outliers\" and Cluster Further\n",
    "* Core - KMeans\n",
    "* Outliers - More DBSCAN to Parse out \"Outliers\" from \"OMG So Much Outlier WHO ARE YOU?\" (aka a sort of hierarchical-DBSCAN)"
   ]
  },
  {
   "cell_type": "code",
   "execution_count": null,
   "metadata": {
    "collapsed": false
   },
   "outputs": [],
   "source": [
    "#Split into Core and Outliers\n",
    "core = clustered[clustered.cluster==0]\n",
    "outliers = clustered[clustered.cluster==-1]\n",
    "\n",
    "core.drop(\"cluster\", axis=1, inplace=True)\n",
    "outliers.drop(\"cluster\", axis=1, inplace=True)\n",
    "\n",
    "print core.columns\n",
    "print outliers.columns"
   ]
  },
  {
   "cell_type": "code",
   "execution_count": null,
   "metadata": {
    "collapsed": false
   },
   "outputs": [],
   "source": [
    "clustered2 = dbscan(core, eps=0.15, min_samples=60)\n",
    "#clustered2 = kmeans(core, n_clusters=2)\n",
    "\n",
    "plt.figure(figsize=(20,10))\n",
    "print clustered2[\"cluster\"].nunique()\n",
    "plt.scatter(clustered2.PCA_1, clustered2.PCA_2, c=clustered2.cluster, label=clustered2.cluster)"
   ]
  },
  {
   "cell_type": "code",
   "execution_count": null,
   "metadata": {
    "collapsed": true
   },
   "outputs": [],
   "source": []
  }
 ],
 "metadata": {
  "kernelspec": {
   "display_name": "Python 2",
   "language": "python",
   "name": "python2"
  },
  "language_info": {
   "codemirror_mode": {
    "name": "ipython",
    "version": 2
   },
   "file_extension": ".py",
   "mimetype": "text/x-python",
   "name": "python",
   "nbconvert_exporter": "python",
   "pygments_lexer": "ipython2",
   "version": "2.7.10"
  }
 },
 "nbformat": 4,
 "nbformat_minor": 0
}
