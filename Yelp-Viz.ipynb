{
 "cells": [
  {
   "cell_type": "markdown",
   "metadata": {},
   "source": [
    "#### Matplotlib and Seaborn Visualizations for Final Prez"
   ]
  },
  {
   "cell_type": "code",
   "execution_count": 1,
   "metadata": {
    "collapsed": true
   },
   "outputs": [],
   "source": [
    "import warnings\n",
    "import pylab\n",
    "import numpy as np\n",
    "import pandas as pd\n",
    "import seaborn as sns\n",
    "import matplotlib as mpl\n",
    "from matplotlib import pyplot as plt\n",
    "from matplotlib.ticker import FuncFormatter\n",
    "from sklearn.cluster import MiniBatchKMeans\n",
    "\n",
    "warnings.filterwarnings(\"ignore\", category=DeprecationWarning)\n",
    "%matplotlib inline"
   ]
  },
  {
   "cell_type": "markdown",
   "metadata": {},
   "source": [
    "#### Linear SVM Classifier Performance Statistics"
   ]
  },
  {
   "cell_type": "code",
   "execution_count": 2,
   "metadata": {
    "collapsed": false
   },
   "outputs": [],
   "source": [
    "precision=[\n",
    "    {\"topic\": \"Food & \\nDrink\", \"value\":89}, \n",
    "    {\"topic\": \"Service\", \"value\":80},\n",
    "    {\"topic\": \"Ambience\", \"value\":57},\n",
    "    {\"topic\": \"Value\", \"value\":73}\n",
    "]\n",
    "\n",
    "recall=[\n",
    "    {\"topic\":\"Food & \\nDrink\", \"value\":80}, \n",
    "    {\"topic\":\"Service\", \"value\":76}, \n",
    "    {\"topic\":\"Ambience\", \"value\":71},\n",
    "    {\"topic\":\"Value\", \"value\":81}\n",
    "]\n",
    "\n",
    "precision = pd.DataFrame(precision)\n",
    "recall = pd.DataFrame(recall)"
   ]
  },
  {
   "cell_type": "code",
   "execution_count": 3,
   "metadata": {
    "collapsed": false
   },
   "outputs": [
    {
     "data": {
      "text/html": [
       "<div>\n",
       "<table border=\"1\" class=\"dataframe\">\n",
       "  <thead>\n",
       "    <tr style=\"text-align: right;\">\n",
       "      <th></th>\n",
       "      <th>topic</th>\n",
       "      <th>value</th>\n",
       "    </tr>\n",
       "  </thead>\n",
       "  <tbody>\n",
       "    <tr>\n",
       "      <th>0</th>\n",
       "      <td>Food &amp; \\nDrink</td>\n",
       "      <td>89</td>\n",
       "    </tr>\n",
       "    <tr>\n",
       "      <th>1</th>\n",
       "      <td>Service</td>\n",
       "      <td>80</td>\n",
       "    </tr>\n",
       "    <tr>\n",
       "      <th>2</th>\n",
       "      <td>Ambience</td>\n",
       "      <td>57</td>\n",
       "    </tr>\n",
       "    <tr>\n",
       "      <th>3</th>\n",
       "      <td>Value</td>\n",
       "      <td>73</td>\n",
       "    </tr>\n",
       "  </tbody>\n",
       "</table>\n",
       "</div>"
      ],
      "text/plain": [
       "            topic  value\n",
       "0  Food & \\nDrink     89\n",
       "1         Service     80\n",
       "2        Ambience     57\n",
       "3           Value     73"
      ]
     },
     "execution_count": 3,
     "metadata": {},
     "output_type": "execute_result"
    }
   ],
   "source": [
    "precision"
   ]
  },
  {
   "cell_type": "code",
   "execution_count": 4,
   "metadata": {
    "collapsed": false
   },
   "outputs": [
    {
     "data": {
      "text/html": [
       "<div>\n",
       "<table border=\"1\" class=\"dataframe\">\n",
       "  <thead>\n",
       "    <tr style=\"text-align: right;\">\n",
       "      <th></th>\n",
       "      <th>topic</th>\n",
       "      <th>value</th>\n",
       "    </tr>\n",
       "  </thead>\n",
       "  <tbody>\n",
       "    <tr>\n",
       "      <th>0</th>\n",
       "      <td>Food &amp; \\nDrink</td>\n",
       "      <td>80</td>\n",
       "    </tr>\n",
       "    <tr>\n",
       "      <th>1</th>\n",
       "      <td>Service</td>\n",
       "      <td>76</td>\n",
       "    </tr>\n",
       "    <tr>\n",
       "      <th>2</th>\n",
       "      <td>Ambience</td>\n",
       "      <td>71</td>\n",
       "    </tr>\n",
       "    <tr>\n",
       "      <th>3</th>\n",
       "      <td>Value</td>\n",
       "      <td>81</td>\n",
       "    </tr>\n",
       "  </tbody>\n",
       "</table>\n",
       "</div>"
      ],
      "text/plain": [
       "            topic  value\n",
       "0  Food & \\nDrink     80\n",
       "1         Service     76\n",
       "2        Ambience     71\n",
       "3           Value     81"
      ]
     },
     "execution_count": 4,
     "metadata": {},
     "output_type": "execute_result"
    }
   ],
   "source": [
    "recall"
   ]
  },
  {
   "cell_type": "code",
   "execution_count": 5,
   "metadata": {
    "collapsed": false
   },
   "outputs": [
    {
     "data": {
      "image/png": "[encoded data removed]",
      "text/plain": [
       "<matplotlib.figure.Figure at 0x10c24be50>"
      ]
     },
     "metadata": {},
     "output_type": "display_data"
    }
   ],
   "source": [
    "plt.figure(figsize=(20,10))\n",
    "\n",
    "blues = sns.color_palette(\"Blues\")[5:1:-1]\n",
    "reds = sns.color_palette(\"Reds\")[5:1:-1]\n",
    "\n",
    "plt.subplot(1,2,1)\n",
    "sns.barplot(x=\"topic\", y=\"value\", data=precision, palette=blues)\n",
    "plt.xlabel(\"\")\n",
    "plt.ylabel(\"(%)\", fontsize=26)\n",
    "plt.tick_params(labelsize=26)\n",
    "plt.title(\"Precision\", fontsize=32)\n",
    "\n",
    "plt.subplot(1,2,2)\n",
    "sns.barplot(x=\"topic\", y=\"value\", data=recall, palette=reds)\n",
    "plt.xlabel(\"\")\n",
    "plt.ylabel(\"(%)\", fontsize=26)\n",
    "plt.tick_params(labelsize=26)\n",
    "plt.title(\"Recall\", fontsize=32)\n",
    "plt.savefig(\"graphics/linear_svm_performance.png\")"
   ]
  },
  {
   "cell_type": "markdown",
   "metadata": {
    "collapsed": true
   },
   "source": [
    "#### Clustering Visualizations\n",
    "#### Read in Yelp Data"
   ]
  },
  {
   "cell_type": "code",
   "execution_count": 6,
   "metadata": {
    "collapsed": false
   },
   "outputs": [
    {
     "data": {
      "text/html": [
       "<div>\n",
       "<table border=\"1\" class=\"dataframe\">\n",
       "  <thead>\n",
       "    <tr style=\"text-align: right;\">\n",
       "      <th></th>\n",
       "      <th>user_id</th>\n",
       "      <th>topic_food</th>\n",
       "      <th>topic_service</th>\n",
       "      <th>topic_ambience</th>\n",
       "      <th>topic_value</th>\n",
       "      <th>relevant</th>\n",
       "      <th>total</th>\n",
       "    </tr>\n",
       "  </thead>\n",
       "  <tbody>\n",
       "    <tr>\n",
       "      <th>0</th>\n",
       "      <td>--9jRaeY1xK-2l9r9fVQWA</td>\n",
       "      <td>31</td>\n",
       "      <td>8</td>\n",
       "      <td>13</td>\n",
       "      <td>5</td>\n",
       "      <td>46</td>\n",
       "      <td>90</td>\n",
       "    </tr>\n",
       "    <tr>\n",
       "      <th>1</th>\n",
       "      <td>--ECBYLVpIfQaeX_35i63Q</td>\n",
       "      <td>48</td>\n",
       "      <td>14</td>\n",
       "      <td>17</td>\n",
       "      <td>17</td>\n",
       "      <td>72</td>\n",
       "      <td>115</td>\n",
       "    </tr>\n",
       "    <tr>\n",
       "      <th>2</th>\n",
       "      <td>--GQemub1KP4qMaA2GYPdA</td>\n",
       "      <td>5</td>\n",
       "      <td>3</td>\n",
       "      <td>2</td>\n",
       "      <td>0</td>\n",
       "      <td>10</td>\n",
       "      <td>12</td>\n",
       "    </tr>\n",
       "    <tr>\n",
       "      <th>3</th>\n",
       "      <td>--JM6F4TP_gwzIuw9QSRbA</td>\n",
       "      <td>16</td>\n",
       "      <td>5</td>\n",
       "      <td>4</td>\n",
       "      <td>0</td>\n",
       "      <td>24</td>\n",
       "      <td>31</td>\n",
       "    </tr>\n",
       "    <tr>\n",
       "      <th>4</th>\n",
       "      <td>--JjLDsPnBf39VR7JTLlSA</td>\n",
       "      <td>1</td>\n",
       "      <td>0</td>\n",
       "      <td>0</td>\n",
       "      <td>0</td>\n",
       "      <td>1</td>\n",
       "      <td>2</td>\n",
       "    </tr>\n",
       "  </tbody>\n",
       "</table>\n",
       "</div>"
      ],
      "text/plain": [
       "                  user_id  topic_food  topic_service  topic_ambience  \\\n",
       "0  --9jRaeY1xK-2l9r9fVQWA          31              8              13   \n",
       "1  --ECBYLVpIfQaeX_35i63Q          48             14              17   \n",
       "2  --GQemub1KP4qMaA2GYPdA           5              3               2   \n",
       "3  --JM6F4TP_gwzIuw9QSRbA          16              5               4   \n",
       "4  --JjLDsPnBf39VR7JTLlSA           1              0               0   \n",
       "\n",
       "   topic_value  relevant  total  \n",
       "0            5        46     90  \n",
       "1           17        72    115  \n",
       "2            0        10     12  \n",
       "3            0        24     31  \n",
       "4            0         1      2  "
      ]
     },
     "execution_count": 6,
     "metadata": {},
     "output_type": "execute_result"
    }
   ],
   "source": [
    "user = pd.read_pickle(\"data/yelp/dataframes/yelp_review_user.pkl\")\n",
    "user.head(5)"
   ]
  },
  {
   "cell_type": "markdown",
   "metadata": {},
   "source": [
    "#### Subset to Top 25 Percentile of Users"
   ]
  },
  {
   "cell_type": "code",
   "execution_count": 7,
   "metadata": {
    "collapsed": false
   },
   "outputs": [],
   "source": [
    "user = user[(user.relevant>=12) & (user.relevant<=222)]\n",
    "user.reset_index(drop=True, inplace=True)"
   ]
  },
  {
   "cell_type": "markdown",
   "metadata": {},
   "source": [
    "#### Calculate % in Each Topic"
   ]
  },
  {
   "cell_type": "code",
   "execution_count": 8,
   "metadata": {
    "collapsed": false
   },
   "outputs": [
    {
     "data": {
      "text/html": [
       "<div>\n",
       "<table border=\"1\" class=\"dataframe\">\n",
       "  <thead>\n",
       "    <tr style=\"text-align: right;\">\n",
       "      <th></th>\n",
       "      <th>user_id</th>\n",
       "      <th>topic_food</th>\n",
       "      <th>topic_service</th>\n",
       "      <th>topic_ambience</th>\n",
       "      <th>topic_value</th>\n",
       "      <th>relevant</th>\n",
       "      <th>total</th>\n",
       "      <th>pct_food</th>\n",
       "      <th>pct_service</th>\n",
       "      <th>pct_ambience</th>\n",
       "      <th>pct_value</th>\n",
       "    </tr>\n",
       "  </thead>\n",
       "  <tbody>\n",
       "    <tr>\n",
       "      <th>0</th>\n",
       "      <td>--9jRaeY1xK-2l9r9fVQWA</td>\n",
       "      <td>31</td>\n",
       "      <td>8</td>\n",
       "      <td>13</td>\n",
       "      <td>5</td>\n",
       "      <td>46</td>\n",
       "      <td>90</td>\n",
       "      <td>0.673913</td>\n",
       "      <td>0.173913</td>\n",
       "      <td>0.282609</td>\n",
       "      <td>0.108696</td>\n",
       "    </tr>\n",
       "    <tr>\n",
       "      <th>1</th>\n",
       "      <td>--ECBYLVpIfQaeX_35i63Q</td>\n",
       "      <td>48</td>\n",
       "      <td>14</td>\n",
       "      <td>17</td>\n",
       "      <td>17</td>\n",
       "      <td>72</td>\n",
       "      <td>115</td>\n",
       "      <td>0.666667</td>\n",
       "      <td>0.194444</td>\n",
       "      <td>0.236111</td>\n",
       "      <td>0.236111</td>\n",
       "    </tr>\n",
       "    <tr>\n",
       "      <th>2</th>\n",
       "      <td>--JM6F4TP_gwzIuw9QSRbA</td>\n",
       "      <td>16</td>\n",
       "      <td>5</td>\n",
       "      <td>4</td>\n",
       "      <td>0</td>\n",
       "      <td>24</td>\n",
       "      <td>31</td>\n",
       "      <td>0.666667</td>\n",
       "      <td>0.208333</td>\n",
       "      <td>0.166667</td>\n",
       "      <td>0.000000</td>\n",
       "    </tr>\n",
       "    <tr>\n",
       "      <th>3</th>\n",
       "      <td>--JzqHAkaNejih4O2O9jjw</td>\n",
       "      <td>13</td>\n",
       "      <td>7</td>\n",
       "      <td>3</td>\n",
       "      <td>0</td>\n",
       "      <td>18</td>\n",
       "      <td>23</td>\n",
       "      <td>0.722222</td>\n",
       "      <td>0.388889</td>\n",
       "      <td>0.166667</td>\n",
       "      <td>0.000000</td>\n",
       "    </tr>\n",
       "    <tr>\n",
       "      <th>4</th>\n",
       "      <td>--f43ruUt7LBeB3aU74z-w</td>\n",
       "      <td>23</td>\n",
       "      <td>4</td>\n",
       "      <td>4</td>\n",
       "      <td>0</td>\n",
       "      <td>27</td>\n",
       "      <td>47</td>\n",
       "      <td>0.851852</td>\n",
       "      <td>0.148148</td>\n",
       "      <td>0.148148</td>\n",
       "      <td>0.000000</td>\n",
       "    </tr>\n",
       "  </tbody>\n",
       "</table>\n",
       "</div>"
      ],
      "text/plain": [
       "                  user_id  topic_food  topic_service  topic_ambience  \\\n",
       "0  --9jRaeY1xK-2l9r9fVQWA          31              8              13   \n",
       "1  --ECBYLVpIfQaeX_35i63Q          48             14              17   \n",
       "2  --JM6F4TP_gwzIuw9QSRbA          16              5               4   \n",
       "3  --JzqHAkaNejih4O2O9jjw          13              7               3   \n",
       "4  --f43ruUt7LBeB3aU74z-w          23              4               4   \n",
       "\n",
       "   topic_value  relevant  total  pct_food  pct_service  pct_ambience  \\\n",
       "0            5        46     90  0.673913     0.173913      0.282609   \n",
       "1           17        72    115  0.666667     0.194444      0.236111   \n",
       "2            0        24     31  0.666667     0.208333      0.166667   \n",
       "3            0        18     23  0.722222     0.388889      0.166667   \n",
       "4            0        27     47  0.851852     0.148148      0.148148   \n",
       "\n",
       "   pct_value  \n",
       "0   0.108696  \n",
       "1   0.236111  \n",
       "2   0.000000  \n",
       "3   0.000000  \n",
       "4   0.000000  "
      ]
     },
     "execution_count": 8,
     "metadata": {},
     "output_type": "execute_result"
    }
   ],
   "source": [
    "user[\"pct_food\"] = user[\"topic_food\"] / user[\"relevant\"]\n",
    "user[\"pct_service\"] = user[\"topic_service\"] / user[\"relevant\"]\n",
    "user[\"pct_ambience\"] = user[\"topic_ambience\"] / user[\"relevant\"]\n",
    "user[\"pct_value\"] = user[\"topic_value\"] / user[\"relevant\"]\n",
    "user.head(5)"
   ]
  },
  {
   "cell_type": "markdown",
   "metadata": {},
   "source": [
    "#### Cluster and Visualize Topic Distributions Accross Clusters"
   ]
  },
  {
   "cell_type": "code",
   "execution_count": 9,
   "metadata": {
    "collapsed": true
   },
   "outputs": [],
   "source": [
    "##Run K-Means\n",
    "def kmeans(df, varlist, n_clusters):\n",
    "    model = MiniBatchKMeans(n_clusters=n_clusters, random_state=4444)\n",
    "    clusters = pd.Series(model.fit_predict(df[varlist]), name=\"cluster\")\n",
    "    clustered = pd.concat([df, clusters], axis=1)\n",
    "    \n",
    "    print clustered[\"cluster\"].nunique()\n",
    "    print clustered[\"cluster\"].value_counts()\n",
    "    print clustered.groupby(by=\"cluster\")[varlist].mean()\n",
    "    \n",
    "    return clustered"
   ]
  },
  {
   "cell_type": "code",
   "execution_count": 10,
   "metadata": {
    "collapsed": false
   },
   "outputs": [
    {
     "name": "stdout",
     "output_type": "stream",
     "text": [
      "4\n",
      "3    5724\n",
      "1    4671\n",
      "0    3520\n",
      "2    1648\n",
      "Name: cluster, dtype: int64\n",
      "         pct_food  pct_service  pct_ambience  pct_value\n",
      "cluster                                                \n",
      "0        0.569150     0.216550      0.310050   0.112562\n",
      "1        0.617186     0.341719      0.136070   0.105455\n",
      "2        0.389265     0.577332      0.153612   0.096132\n",
      "3        0.782606     0.156507      0.129342   0.097690\n"
     ]
    },
    {
     "data": {
      "text/html": [
       "<div>\n",
       "<table border=\"1\" class=\"dataframe\">\n",
       "  <thead>\n",
       "    <tr style=\"text-align: right;\">\n",
       "      <th></th>\n",
       "      <th>user_id</th>\n",
       "      <th>topic_food</th>\n",
       "      <th>topic_service</th>\n",
       "      <th>topic_ambience</th>\n",
       "      <th>topic_value</th>\n",
       "      <th>relevant</th>\n",
       "      <th>total</th>\n",
       "      <th>pct_food</th>\n",
       "      <th>pct_service</th>\n",
       "      <th>pct_ambience</th>\n",
       "      <th>pct_value</th>\n",
       "      <th>cluster</th>\n",
       "    </tr>\n",
       "  </thead>\n",
       "  <tbody>\n",
       "    <tr>\n",
       "      <th>0</th>\n",
       "      <td>--9jRaeY1xK-2l9r9fVQWA</td>\n",
       "      <td>31</td>\n",
       "      <td>8</td>\n",
       "      <td>13</td>\n",
       "      <td>5</td>\n",
       "      <td>46</td>\n",
       "      <td>90</td>\n",
       "      <td>0.673913</td>\n",
       "      <td>0.173913</td>\n",
       "      <td>0.282609</td>\n",
       "      <td>0.108696</td>\n",
       "      <td>0</td>\n",
       "    </tr>\n",
       "    <tr>\n",
       "      <th>1</th>\n",
       "      <td>--ECBYLVpIfQaeX_35i63Q</td>\n",
       "      <td>48</td>\n",
       "      <td>14</td>\n",
       "      <td>17</td>\n",
       "      <td>17</td>\n",
       "      <td>72</td>\n",
       "      <td>115</td>\n",
       "      <td>0.666667</td>\n",
       "      <td>0.194444</td>\n",
       "      <td>0.236111</td>\n",
       "      <td>0.236111</td>\n",
       "      <td>0</td>\n",
       "    </tr>\n",
       "    <tr>\n",
       "      <th>2</th>\n",
       "      <td>--JM6F4TP_gwzIuw9QSRbA</td>\n",
       "      <td>16</td>\n",
       "      <td>5</td>\n",
       "      <td>4</td>\n",
       "      <td>0</td>\n",
       "      <td>24</td>\n",
       "      <td>31</td>\n",
       "      <td>0.666667</td>\n",
       "      <td>0.208333</td>\n",
       "      <td>0.166667</td>\n",
       "      <td>0.000000</td>\n",
       "      <td>3</td>\n",
       "    </tr>\n",
       "    <tr>\n",
       "      <th>3</th>\n",
       "      <td>--JzqHAkaNejih4O2O9jjw</td>\n",
       "      <td>13</td>\n",
       "      <td>7</td>\n",
       "      <td>3</td>\n",
       "      <td>0</td>\n",
       "      <td>18</td>\n",
       "      <td>23</td>\n",
       "      <td>0.722222</td>\n",
       "      <td>0.388889</td>\n",
       "      <td>0.166667</td>\n",
       "      <td>0.000000</td>\n",
       "      <td>1</td>\n",
       "    </tr>\n",
       "    <tr>\n",
       "      <th>4</th>\n",
       "      <td>--f43ruUt7LBeB3aU74z-w</td>\n",
       "      <td>23</td>\n",
       "      <td>4</td>\n",
       "      <td>4</td>\n",
       "      <td>0</td>\n",
       "      <td>27</td>\n",
       "      <td>47</td>\n",
       "      <td>0.851852</td>\n",
       "      <td>0.148148</td>\n",
       "      <td>0.148148</td>\n",
       "      <td>0.000000</td>\n",
       "      <td>3</td>\n",
       "    </tr>\n",
       "  </tbody>\n",
       "</table>\n",
       "</div>"
      ],
      "text/plain": [
       "                  user_id  topic_food  topic_service  topic_ambience  \\\n",
       "0  --9jRaeY1xK-2l9r9fVQWA          31              8              13   \n",
       "1  --ECBYLVpIfQaeX_35i63Q          48             14              17   \n",
       "2  --JM6F4TP_gwzIuw9QSRbA          16              5               4   \n",
       "3  --JzqHAkaNejih4O2O9jjw          13              7               3   \n",
       "4  --f43ruUt7LBeB3aU74z-w          23              4               4   \n",
       "\n",
       "   topic_value  relevant  total  pct_food  pct_service  pct_ambience  \\\n",
       "0            5        46     90  0.673913     0.173913      0.282609   \n",
       "1           17        72    115  0.666667     0.194444      0.236111   \n",
       "2            0        24     31  0.666667     0.208333      0.166667   \n",
       "3            0        18     23  0.722222     0.388889      0.166667   \n",
       "4            0        27     47  0.851852     0.148148      0.148148   \n",
       "\n",
       "   pct_value  cluster  \n",
       "0   0.108696        0  \n",
       "1   0.236111        0  \n",
       "2   0.000000        3  \n",
       "3   0.000000        1  \n",
       "4   0.000000        3  "
      ]
     },
     "execution_count": 10,
     "metadata": {},
     "output_type": "execute_result"
    }
   ],
   "source": [
    "varlist = [\"pct_food\",\"pct_service\",\"pct_ambience\",\"pct_value\"]\n",
    "clustered = kmeans(user, varlist, n_clusters=4)\n",
    "clustered.head(5)"
   ]
  },
  {
   "cell_type": "code",
   "execution_count": 20,
   "metadata": {
    "collapsed": true
   },
   "outputs": [],
   "source": [
    "##Format Data for Seaborn Barplot\n",
    "def stack_data(df, var, topic):\n",
    "    new_df = df.rename(columns={var: \"percent\"}) #rename column for stacking\n",
    "    new_df[\"percent\"] = new_df.percent.apply(lambda x: x*100)\n",
    "    new_df[\"topic\"] = topic #flag topic\n",
    "    \n",
    "    return new_df[[\"user_id\",\"topic\",\"percent\",\"cluster\"]]"
   ]
  },
  {
   "cell_type": "code",
   "execution_count": 21,
   "metadata": {
    "collapsed": false
   },
   "outputs": [
    {
     "name": "stdout",
     "output_type": "stream",
     "text": [
      "                  user_id           topic    percent  cluster\n",
      "0  --9jRaeY1xK-2l9r9fVQWA  Food & \\nDrink  67.391304        0\n",
      "1  --ECBYLVpIfQaeX_35i63Q  Food & \\nDrink  66.666667        0\n",
      "2  --JM6F4TP_gwzIuw9QSRbA  Food & \\nDrink  66.666667        3\n",
      "3  --JzqHAkaNejih4O2O9jjw  Food & \\nDrink  72.222222        1\n",
      "4  --f43ruUt7LBeB3aU74z-w  Food & \\nDrink  85.185185        3\n"
     ]
    }
   ],
   "source": [
    "food = stack_data(clustered, \"pct_food\", \"Food & \\nDrink\")\n",
    "service = stack_data(clustered, \"pct_service\", \"Service\")\n",
    "ambience = stack_data(clustered, \"pct_ambience\", \"Ambience\")\n",
    "value = stack_data(clustered, \"pct_value\", \"Value\")\n",
    "\n",
    "stacked = pd.concat([food, service, ambience, value], axis=0)\n",
    "print stacked.head(5)"
   ]
  },
  {
   "cell_type": "markdown",
   "metadata": {},
   "source": [
    "#### Plot Graph"
   ]
  },
  {
   "cell_type": "code",
   "execution_count": 22,
   "metadata": {
    "collapsed": false
   },
   "outputs": [],
   "source": [
    "##Format Percent Tick Marks\n",
    "def to_percent(x, position):\n",
    "    s = str(x)\n",
    "\n",
    "    if mpl.rcParams['text.usetex'] is True:\n",
    "        return s + r'$\\%$'\n",
    "    else:\n",
    "        return s + '%'\n",
    "\n",
    "formatter = FuncFormatter(to_percent)\n",
    "#plt.gca().xaxis.set_major_formatter(formatter)"
   ]
  },
  {
   "cell_type": "code",
   "execution_count": 33,
   "metadata": {
    "collapsed": false
   },
   "outputs": [
    {
     "data": {
      "image/png": "[encoded data removed]",
      "text/plain": [
       "<matplotlib.figure.Figure at 0x10e3e9550>"
      ]
     },
     "metadata": {},
     "output_type": "display_data"
    }
   ],
   "source": [
    "##Plot Figure\n",
    "plt.figure(figsize=(24,12))\n",
    "\n",
    "blues = sns.color_palette(\"Blues\")[6:2:-1]\n",
    "purples = sns.color_palette(\"Purples\")[6:2:-1]\n",
    "reds = sns.color_palette(\"Reds\")[6:2:-1]\n",
    "oranges = sns.color_palette(\"Oranges\")[6:2:-1]\n",
    "\n",
    "plt.subplot(2,2,1)\n",
    "sns.barplot(x=\"percent\", y=\"topic\", orient=\"h\", ci=None, palette=blues, data=stacked[stacked.cluster==3])\n",
    "plt.tick_params(axis=\"x\", labelsize=20)\n",
    "plt.tick_params(axis=\"y\", labelsize=24)\n",
    "plt.xlabel(\"\")\n",
    "plt.ylabel(\"\")\n",
    "plt.title(\"Fanatic Foodies\", fontsize=24, fontweight=\"bold\")\n",
    "pylab.xlim([0,100])\n",
    "plt.gca().xaxis.set_major_formatter(formatter)\n",
    "\n",
    "plt.subplot(2,2,2)\n",
    "sns.barplot(x=\"percent\", y=\"topic\", orient=\"h\", ci=None, palette=purples, data=stacked[stacked.cluster==2])\n",
    "plt.tick_params(axis=\"x\", labelsize=20)\n",
    "plt.tick_params(axis=\"y\", labelsize=24)\n",
    "plt.xlabel(\"\")\n",
    "plt.ylabel(\"\")\n",
    "plt.title(\"Suckers for Service\", fontsize=24, fontweight=\"bold\")\n",
    "pylab.xlim([0,100])\n",
    "plt.gca().xaxis.set_major_formatter(formatter)\n",
    "\n",
    "plt.subplot(2,2,3)\n",
    "sns.barplot(x=\"percent\", y=\"topic\", orient=\"h\", ci=None, palette=reds, data=stacked[stacked.cluster==1])\n",
    "plt.tick_params(axis=\"x\", labelsize=20)\n",
    "plt.tick_params(axis=\"y\", labelsize=24)\n",
    "plt.xlabel(\"\")\n",
    "plt.ylabel(\"\")\n",
    "plt.title(\"Feed me Fasters\", fontsize=24, fontweight=\"bold\")\n",
    "pylab.xlim([0,100])\n",
    "plt.gca().xaxis.set_major_formatter(formatter)\n",
    "\n",
    "plt.subplot(2,2,4)\n",
    "sns.barplot(x=\"percent\", y=\"topic\", orient=\"h\", ci=None, palette=oranges, data=stacked[stacked.cluster==0])\n",
    "plt.tick_params(axis=\"x\", labelsize=20)\n",
    "plt.tick_params(axis=\"y\", labelsize=24)\n",
    "plt.xlabel(\"\")\n",
    "plt.ylabel(\"\")\n",
    "plt.title(\"Night on the Towners\", fontsize=24, fontweight=\"bold\")\n",
    "pylab.xlim([0,100])\n",
    "plt.gca().xaxis.set_major_formatter(formatter)\n",
    "\n",
    "plt.savefig(\"graphics/topic_dist_by_cluster.png\")"
   ]
  },
  {
   "cell_type": "code",
   "execution_count": null,
   "metadata": {
    "collapsed": false
   },
   "outputs": [],
   "source": [
    "sns.palplot(sns.color_palette(\"Blues\"))\n",
    "sns.palplot(sns.color_palette(\"Reds\"))\n",
    "sns.palplot(sns.color_palette(\"Purples\"))\n",
    "sns.palplot(sns.color_palette(\"Oranges\"))"
   ]
  },
  {
   "cell_type": "code",
   "execution_count": null,
   "metadata": {
    "collapsed": false
   },
   "outputs": [],
   "source": [
    "blues = sns.color_palette(\"Blues\")[2:10]\n",
    "print len(blues)"
   ]
  },
  {
   "cell_type": "code",
   "execution_count": null,
   "metadata": {
    "collapsed": true
   },
   "outputs": [],
   "source": [
    "sns.palplot(sns.color_palette(\"Blues\"))"
   ]
  },
  {
   "cell_type": "markdown",
   "metadata": {},
   "source": [
    "#### Old Clustering Viz"
   ]
  },
  {
   "cell_type": "code",
   "execution_count": null,
   "metadata": {
    "collapsed": true
   },
   "outputs": [],
   "source": [
    "##Function to Run DBSCAN Clustering\n",
    "def dbscan(df, eps, min_samples):\n",
    "    model = DBSCAN(eps=eps, min_samples=min_samples)\n",
    "    clusters = pd.Series(model.fit_predict(df[[\"PCA_1\",\"PCA_2\"]]), name=\"cluster\")\n",
    "    \n",
    "    return pd.concat([df, clusters], axis=1)\n",
    "\n",
    "##Function to Run Mini-Batch K-Means Clustering\n",
    "def kmeans(df, n_clusters):\n",
    "    model = MiniBatchKMeans(n_clusters=n_clusters)\n",
    "    clusters = pd.Series(model.fit_predict(df[[\"PCA_1\",\"PCA_2\"]]), name=\"cluster\")\n",
    "    \n",
    "    return pd.concat([df, clusters], axis=1)"
   ]
  },
  {
   "cell_type": "code",
   "execution_count": null,
   "metadata": {
    "collapsed": false
   },
   "outputs": [],
   "source": [
    "clustered = dbscan(user, eps=0.17, min_samples=35)\n",
    "clustered[\"one_cluster\"] = 0\n",
    "clustered.cluster.value_counts()"
   ]
  },
  {
   "cell_type": "code",
   "execution_count": null,
   "metadata": {
    "collapsed": false
   },
   "outputs": [],
   "source": [
    "plt.figure(figsize=(20,10))\n",
    "colors=[\"#8B0000\",\"#8B0000\"]\n",
    "\n",
    "plt.scatter(clustered.PCA_1, clustered.PCA_2, c=clustered.one_cluster, color=colors)\n",
    "plt.xlabel(\"Component 1\", fontsize=24)\n",
    "plt.ylabel(\"Component 2\", fontsize=24)\n",
    "plt.tick_params(labelsize=22)\n",
    "plt.title(\"Topics Discussed-Principal Component Analysis (PCA) (Top Quartile of Users)\", fontsize=28)\n",
    "plt.savefig(\"graphics/scatter_all.png\")"
   ]
  },
  {
   "cell_type": "code",
   "execution_count": null,
   "metadata": {
    "collapsed": false
   },
   "outputs": [],
   "source": [
    "plt.figure(figsize=(20,10))\n",
    "colors=[\"#8B0000\",\"#8B0000\"]\n",
    "\n",
    "plt.scatter(clustered.PCA_1, clustered.PCA_2, c=clustered.cluster, color=colors)\n",
    "plt.xlabel(\"Component 1\", fontsize=24)\n",
    "plt.ylabel(\"Component 2\", fontsize=24)\n",
    "plt.tick_params(labelsize=22)\n",
    "plt.title(\"User Topics - Clustered Principal Component Analysis (PCA) (Top Quartile of Users)\", fontsize=28)\n",
    "plt.savefig(\"graphics/scatter_clustered.png\")"
   ]
  },
  {
   "cell_type": "markdown",
   "metadata": {},
   "source": [
    "#### Look at Characteristics of \"Core\" and \"Outlier\" Users"
   ]
  },
  {
   "cell_type": "code",
   "execution_count": null,
   "metadata": {
    "collapsed": false
   },
   "outputs": [],
   "source": [
    "clustered.groupby(by=\"cluster\")[[\"pct_food\",\"pct_service\",\"pct_ambience\",\"pct_value\"]].mean()"
   ]
  },
  {
   "cell_type": "code",
   "execution_count": null,
   "metadata": {
    "collapsed": true
   },
   "outputs": [],
   "source": []
  },
  {
   "cell_type": "code",
   "execution_count": null,
   "metadata": {
    "collapsed": false
   },
   "outputs": [],
   "source": []
  },
  {
   "cell_type": "code",
   "execution_count": null,
   "metadata": {
    "collapsed": false
   },
   "outputs": [],
   "source": []
  },
  {
   "cell_type": "code",
   "execution_count": null,
   "metadata": {
    "collapsed": false
   },
   "outputs": [],
   "source": []
  },
  {
   "cell_type": "code",
   "execution_count": null,
   "metadata": {
    "collapsed": true
   },
   "outputs": [],
   "source": []
  }
 ],
 "metadata": {
  "kernelspec": {
   "display_name": "Python 2",
   "language": "python",
   "name": "python2"
  },
  "language_info": {
   "codemirror_mode": {
    "name": "ipython",
    "version": 2
   },
   "file_extension": ".py",
   "mimetype": "text/x-python",
   "name": "python",
   "nbconvert_exporter": "python",
   "pygments_lexer": "ipython2",
   "version": "2.7.10"
  }
 },
 "nbformat": 4,
 "nbformat_minor": 0
}
