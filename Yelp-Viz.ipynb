{
 "cells": [
  {
   "cell_type": "markdown",
   "metadata": {},
   "source": [
    "#### Matplotlib and Seaborn Visualizations for Final Prez"
   ]
  },
  {
   "cell_type": "code",
   "execution_count": 1,
   "metadata": {
    "collapsed": false
   },
   "outputs": [],
   "source": [
    "import warnings\n",
    "import pylab\n",
    "import numpy as np\n",
    "import pandas as pd\n",
    "import seaborn as sns\n",
    "import matplotlib as mpl\n",
    "from matplotlib import pyplot as plt\n",
    "from matplotlib.ticker import FuncFormatter\n",
    "from sklearn.cluster import MiniBatchKMeans\n",
    "\n",
    "warnings.filterwarnings(\"ignore\", category=DeprecationWarning)\n",
    "%matplotlib inline"
   ]
  },
  {
   "cell_type": "markdown",
   "metadata": {
    "collapsed": true
   },
   "source": [
    "#### Read in User-Level Yelp Data"
   ]
  },
  {
   "cell_type": "code",
   "execution_count": 2,
   "metadata": {
    "collapsed": false
   },
   "outputs": [
    {
     "data": {
      "text/html": [
       "<div>\n",
       "<table border=\"1\" class=\"dataframe\">\n",
       "  <thead>\n",
       "    <tr style=\"text-align: right;\">\n",
       "      <th></th>\n",
       "      <th>user_id</th>\n",
       "      <th>topic_food</th>\n",
       "      <th>topic_service</th>\n",
       "      <th>topic_ambience</th>\n",
       "      <th>topic_value</th>\n",
       "      <th>relevant</th>\n",
       "      <th>total</th>\n",
       "    </tr>\n",
       "  </thead>\n",
       "  <tbody>\n",
       "    <tr>\n",
       "      <th>0</th>\n",
       "      <td>--9jRaeY1xK-2l9r9fVQWA</td>\n",
       "      <td>31</td>\n",
       "      <td>8</td>\n",
       "      <td>13</td>\n",
       "      <td>5</td>\n",
       "      <td>46</td>\n",
       "      <td>90</td>\n",
       "    </tr>\n",
       "    <tr>\n",
       "      <th>1</th>\n",
       "      <td>--ECBYLVpIfQaeX_35i63Q</td>\n",
       "      <td>48</td>\n",
       "      <td>14</td>\n",
       "      <td>17</td>\n",
       "      <td>17</td>\n",
       "      <td>72</td>\n",
       "      <td>115</td>\n",
       "    </tr>\n",
       "    <tr>\n",
       "      <th>2</th>\n",
       "      <td>--GQemub1KP4qMaA2GYPdA</td>\n",
       "      <td>5</td>\n",
       "      <td>3</td>\n",
       "      <td>2</td>\n",
       "      <td>0</td>\n",
       "      <td>10</td>\n",
       "      <td>12</td>\n",
       "    </tr>\n",
       "    <tr>\n",
       "      <th>3</th>\n",
       "      <td>--JM6F4TP_gwzIuw9QSRbA</td>\n",
       "      <td>16</td>\n",
       "      <td>5</td>\n",
       "      <td>4</td>\n",
       "      <td>0</td>\n",
       "      <td>24</td>\n",
       "      <td>31</td>\n",
       "    </tr>\n",
       "    <tr>\n",
       "      <th>4</th>\n",
       "      <td>--JjLDsPnBf39VR7JTLlSA</td>\n",
       "      <td>1</td>\n",
       "      <td>0</td>\n",
       "      <td>0</td>\n",
       "      <td>0</td>\n",
       "      <td>1</td>\n",
       "      <td>2</td>\n",
       "    </tr>\n",
       "  </tbody>\n",
       "</table>\n",
       "</div>"
      ],
      "text/plain": [
       "                  user_id  topic_food  topic_service  topic_ambience  \\\n",
       "0  --9jRaeY1xK-2l9r9fVQWA          31              8              13   \n",
       "1  --ECBYLVpIfQaeX_35i63Q          48             14              17   \n",
       "2  --GQemub1KP4qMaA2GYPdA           5              3               2   \n",
       "3  --JM6F4TP_gwzIuw9QSRbA          16              5               4   \n",
       "4  --JjLDsPnBf39VR7JTLlSA           1              0               0   \n",
       "\n",
       "   topic_value  relevant  total  \n",
       "0            5        46     90  \n",
       "1           17        72    115  \n",
       "2            0        10     12  \n",
       "3            0        24     31  \n",
       "4            0         1      2  "
      ]
     },
     "execution_count": 2,
     "metadata": {},
     "output_type": "execute_result"
    }
   ],
   "source": [
    "user = pd.read_pickle(\"data/yelp/dataframes/yelp_review_user.pkl\")\n",
    "user.head(5)"
   ]
  },
  {
   "cell_type": "markdown",
   "metadata": {},
   "source": [
    "#### Subset to Top 25 Percentile of Users"
   ]
  },
  {
   "cell_type": "code",
   "execution_count": 3,
   "metadata": {
    "collapsed": false
   },
   "outputs": [],
   "source": [
    "user = user[(user.relevant>=12) & (user.relevant<=222)]\n",
    "user.reset_index(drop=True, inplace=True)"
   ]
  },
  {
   "cell_type": "markdown",
   "metadata": {},
   "source": [
    "#### Calculate % in Each Topic"
   ]
  },
  {
   "cell_type": "code",
   "execution_count": 4,
   "metadata": {
    "collapsed": false
   },
   "outputs": [
    {
     "data": {
      "text/html": [
       "<div>\n",
       "<table border=\"1\" class=\"dataframe\">\n",
       "  <thead>\n",
       "    <tr style=\"text-align: right;\">\n",
       "      <th></th>\n",
       "      <th>user_id</th>\n",
       "      <th>topic_food</th>\n",
       "      <th>topic_service</th>\n",
       "      <th>topic_ambience</th>\n",
       "      <th>topic_value</th>\n",
       "      <th>relevant</th>\n",
       "      <th>total</th>\n",
       "      <th>pct_food</th>\n",
       "      <th>pct_service</th>\n",
       "      <th>pct_ambience</th>\n",
       "      <th>pct_value</th>\n",
       "    </tr>\n",
       "  </thead>\n",
       "  <tbody>\n",
       "    <tr>\n",
       "      <th>0</th>\n",
       "      <td>--9jRaeY1xK-2l9r9fVQWA</td>\n",
       "      <td>31</td>\n",
       "      <td>8</td>\n",
       "      <td>13</td>\n",
       "      <td>5</td>\n",
       "      <td>46</td>\n",
       "      <td>90</td>\n",
       "      <td>0.673913</td>\n",
       "      <td>0.173913</td>\n",
       "      <td>0.282609</td>\n",
       "      <td>0.108696</td>\n",
       "    </tr>\n",
       "    <tr>\n",
       "      <th>1</th>\n",
       "      <td>--ECBYLVpIfQaeX_35i63Q</td>\n",
       "      <td>48</td>\n",
       "      <td>14</td>\n",
       "      <td>17</td>\n",
       "      <td>17</td>\n",
       "      <td>72</td>\n",
       "      <td>115</td>\n",
       "      <td>0.666667</td>\n",
       "      <td>0.194444</td>\n",
       "      <td>0.236111</td>\n",
       "      <td>0.236111</td>\n",
       "    </tr>\n",
       "    <tr>\n",
       "      <th>2</th>\n",
       "      <td>--JM6F4TP_gwzIuw9QSRbA</td>\n",
       "      <td>16</td>\n",
       "      <td>5</td>\n",
       "      <td>4</td>\n",
       "      <td>0</td>\n",
       "      <td>24</td>\n",
       "      <td>31</td>\n",
       "      <td>0.666667</td>\n",
       "      <td>0.208333</td>\n",
       "      <td>0.166667</td>\n",
       "      <td>0.000000</td>\n",
       "    </tr>\n",
       "    <tr>\n",
       "      <th>3</th>\n",
       "      <td>--JzqHAkaNejih4O2O9jjw</td>\n",
       "      <td>13</td>\n",
       "      <td>7</td>\n",
       "      <td>3</td>\n",
       "      <td>0</td>\n",
       "      <td>18</td>\n",
       "      <td>23</td>\n",
       "      <td>0.722222</td>\n",
       "      <td>0.388889</td>\n",
       "      <td>0.166667</td>\n",
       "      <td>0.000000</td>\n",
       "    </tr>\n",
       "    <tr>\n",
       "      <th>4</th>\n",
       "      <td>--f43ruUt7LBeB3aU74z-w</td>\n",
       "      <td>23</td>\n",
       "      <td>4</td>\n",
       "      <td>4</td>\n",
       "      <td>0</td>\n",
       "      <td>27</td>\n",
       "      <td>47</td>\n",
       "      <td>0.851852</td>\n",
       "      <td>0.148148</td>\n",
       "      <td>0.148148</td>\n",
       "      <td>0.000000</td>\n",
       "    </tr>\n",
       "  </tbody>\n",
       "</table>\n",
       "</div>"
      ],
      "text/plain": [
       "                  user_id  topic_food  topic_service  topic_ambience  \\\n",
       "0  --9jRaeY1xK-2l9r9fVQWA          31              8              13   \n",
       "1  --ECBYLVpIfQaeX_35i63Q          48             14              17   \n",
       "2  --JM6F4TP_gwzIuw9QSRbA          16              5               4   \n",
       "3  --JzqHAkaNejih4O2O9jjw          13              7               3   \n",
       "4  --f43ruUt7LBeB3aU74z-w          23              4               4   \n",
       "\n",
       "   topic_value  relevant  total  pct_food  pct_service  pct_ambience  \\\n",
       "0            5        46     90  0.673913     0.173913      0.282609   \n",
       "1           17        72    115  0.666667     0.194444      0.236111   \n",
       "2            0        24     31  0.666667     0.208333      0.166667   \n",
       "3            0        18     23  0.722222     0.388889      0.166667   \n",
       "4            0        27     47  0.851852     0.148148      0.148148   \n",
       "\n",
       "   pct_value  \n",
       "0   0.108696  \n",
       "1   0.236111  \n",
       "2   0.000000  \n",
       "3   0.000000  \n",
       "4   0.000000  "
      ]
     },
     "execution_count": 4,
     "metadata": {},
     "output_type": "execute_result"
    }
   ],
   "source": [
    "user[\"pct_food\"] = user[\"topic_food\"] / user[\"relevant\"]\n",
    "user[\"pct_service\"] = user[\"topic_service\"] / user[\"relevant\"]\n",
    "user[\"pct_ambience\"] = user[\"topic_ambience\"] / user[\"relevant\"]\n",
    "user[\"pct_value\"] = user[\"topic_value\"] / user[\"relevant\"]\n",
    "user.head(5)"
   ]
  },
  {
   "cell_type": "markdown",
   "metadata": {},
   "source": [
    "#### Cluster Users Using K-Means"
   ]
  },
  {
   "cell_type": "code",
   "execution_count": 5,
   "metadata": {
    "collapsed": true
   },
   "outputs": [],
   "source": [
    "def kmeans(df, varlist, n_clusters):\n",
    "    model = MiniBatchKMeans(n_clusters=n_clusters, random_state=4444)\n",
    "    clusters = pd.Series(model.fit_predict(df[varlist]), name=\"cluster\")\n",
    "    clustered = pd.concat([df, clusters], axis=1)\n",
    "    \n",
    "    print clustered[\"cluster\"].nunique()\n",
    "    print clustered[\"cluster\"].value_counts()\n",
    "    print clustered.groupby(by=\"cluster\")[varlist].mean()\n",
    "    \n",
    "    return clustered"
   ]
  },
  {
   "cell_type": "code",
   "execution_count": 6,
   "metadata": {
    "collapsed": false
   },
   "outputs": [
    {
     "name": "stdout",
     "output_type": "stream",
     "text": [
      "4\n",
      "3    5724\n",
      "1    4671\n",
      "0    3520\n",
      "2    1648\n",
      "Name: cluster, dtype: int64\n",
      "         pct_food  pct_service  pct_ambience  pct_value\n",
      "cluster                                                \n",
      "0        0.569150     0.216550      0.310050   0.112562\n",
      "1        0.617186     0.341719      0.136070   0.105455\n",
      "2        0.389265     0.577332      0.153612   0.096132\n",
      "3        0.782606     0.156507      0.129342   0.097690\n"
     ]
    },
    {
     "data": {
      "text/html": [
       "<div>\n",
       "<table border=\"1\" class=\"dataframe\">\n",
       "  <thead>\n",
       "    <tr style=\"text-align: right;\">\n",
       "      <th></th>\n",
       "      <th>user_id</th>\n",
       "      <th>topic_food</th>\n",
       "      <th>topic_service</th>\n",
       "      <th>topic_ambience</th>\n",
       "      <th>topic_value</th>\n",
       "      <th>relevant</th>\n",
       "      <th>total</th>\n",
       "      <th>pct_food</th>\n",
       "      <th>pct_service</th>\n",
       "      <th>pct_ambience</th>\n",
       "      <th>pct_value</th>\n",
       "      <th>cluster</th>\n",
       "    </tr>\n",
       "  </thead>\n",
       "  <tbody>\n",
       "    <tr>\n",
       "      <th>0</th>\n",
       "      <td>--9jRaeY1xK-2l9r9fVQWA</td>\n",
       "      <td>31</td>\n",
       "      <td>8</td>\n",
       "      <td>13</td>\n",
       "      <td>5</td>\n",
       "      <td>46</td>\n",
       "      <td>90</td>\n",
       "      <td>0.673913</td>\n",
       "      <td>0.173913</td>\n",
       "      <td>0.282609</td>\n",
       "      <td>0.108696</td>\n",
       "      <td>0</td>\n",
       "    </tr>\n",
       "    <tr>\n",
       "      <th>1</th>\n",
       "      <td>--ECBYLVpIfQaeX_35i63Q</td>\n",
       "      <td>48</td>\n",
       "      <td>14</td>\n",
       "      <td>17</td>\n",
       "      <td>17</td>\n",
       "      <td>72</td>\n",
       "      <td>115</td>\n",
       "      <td>0.666667</td>\n",
       "      <td>0.194444</td>\n",
       "      <td>0.236111</td>\n",
       "      <td>0.236111</td>\n",
       "      <td>0</td>\n",
       "    </tr>\n",
       "    <tr>\n",
       "      <th>2</th>\n",
       "      <td>--JM6F4TP_gwzIuw9QSRbA</td>\n",
       "      <td>16</td>\n",
       "      <td>5</td>\n",
       "      <td>4</td>\n",
       "      <td>0</td>\n",
       "      <td>24</td>\n",
       "      <td>31</td>\n",
       "      <td>0.666667</td>\n",
       "      <td>0.208333</td>\n",
       "      <td>0.166667</td>\n",
       "      <td>0.000000</td>\n",
       "      <td>3</td>\n",
       "    </tr>\n",
       "    <tr>\n",
       "      <th>3</th>\n",
       "      <td>--JzqHAkaNejih4O2O9jjw</td>\n",
       "      <td>13</td>\n",
       "      <td>7</td>\n",
       "      <td>3</td>\n",
       "      <td>0</td>\n",
       "      <td>18</td>\n",
       "      <td>23</td>\n",
       "      <td>0.722222</td>\n",
       "      <td>0.388889</td>\n",
       "      <td>0.166667</td>\n",
       "      <td>0.000000</td>\n",
       "      <td>1</td>\n",
       "    </tr>\n",
       "    <tr>\n",
       "      <th>4</th>\n",
       "      <td>--f43ruUt7LBeB3aU74z-w</td>\n",
       "      <td>23</td>\n",
       "      <td>4</td>\n",
       "      <td>4</td>\n",
       "      <td>0</td>\n",
       "      <td>27</td>\n",
       "      <td>47</td>\n",
       "      <td>0.851852</td>\n",
       "      <td>0.148148</td>\n",
       "      <td>0.148148</td>\n",
       "      <td>0.000000</td>\n",
       "      <td>3</td>\n",
       "    </tr>\n",
       "  </tbody>\n",
       "</table>\n",
       "</div>"
      ],
      "text/plain": [
       "                  user_id  topic_food  topic_service  topic_ambience  \\\n",
       "0  --9jRaeY1xK-2l9r9fVQWA          31              8              13   \n",
       "1  --ECBYLVpIfQaeX_35i63Q          48             14              17   \n",
       "2  --JM6F4TP_gwzIuw9QSRbA          16              5               4   \n",
       "3  --JzqHAkaNejih4O2O9jjw          13              7               3   \n",
       "4  --f43ruUt7LBeB3aU74z-w          23              4               4   \n",
       "\n",
       "   topic_value  relevant  total  pct_food  pct_service  pct_ambience  \\\n",
       "0            5        46     90  0.673913     0.173913      0.282609   \n",
       "1           17        72    115  0.666667     0.194444      0.236111   \n",
       "2            0        24     31  0.666667     0.208333      0.166667   \n",
       "3            0        18     23  0.722222     0.388889      0.166667   \n",
       "4            0        27     47  0.851852     0.148148      0.148148   \n",
       "\n",
       "   pct_value  cluster  \n",
       "0   0.108696        0  \n",
       "1   0.236111        0  \n",
       "2   0.000000        3  \n",
       "3   0.000000        1  \n",
       "4   0.000000        3  "
      ]
     },
     "execution_count": 6,
     "metadata": {},
     "output_type": "execute_result"
    }
   ],
   "source": [
    "varlist = [\"pct_food\",\"pct_service\",\"pct_ambience\",\"pct_value\"]\n",
    "clustered = kmeans(user, varlist, n_clusters=4)\n",
    "clustered.head(5)"
   ]
  },
  {
   "cell_type": "markdown",
   "metadata": {},
   "source": [
    "#### Format Dataframe to Read into Seaborn Barplot"
   ]
  },
  {
   "cell_type": "code",
   "execution_count": 7,
   "metadata": {
    "collapsed": true
   },
   "outputs": [],
   "source": [
    "def stack_data(df, var, topic):\n",
    "    new_df = df.rename(columns={var: \"percent\"}) #rename column for stacking\n",
    "    new_df[\"percent\"] = new_df.percent.apply(lambda x: x*100)\n",
    "    new_df[\"topic\"] = topic #flag topic\n",
    "    \n",
    "    return new_df[[\"user_id\",\"topic\",\"percent\",\"cluster\"]]"
   ]
  },
  {
   "cell_type": "code",
   "execution_count": 8,
   "metadata": {
    "collapsed": false
   },
   "outputs": [
    {
     "name": "stdout",
     "output_type": "stream",
     "text": [
      "                  user_id           topic    percent  cluster\n",
      "0  --9jRaeY1xK-2l9r9fVQWA  Food & \\nDrink  67.391304        0\n",
      "1  --ECBYLVpIfQaeX_35i63Q  Food & \\nDrink  66.666667        0\n",
      "2  --JM6F4TP_gwzIuw9QSRbA  Food & \\nDrink  66.666667        3\n",
      "3  --JzqHAkaNejih4O2O9jjw  Food & \\nDrink  72.222222        1\n",
      "4  --f43ruUt7LBeB3aU74z-w  Food & \\nDrink  85.185185        3\n"
     ]
    }
   ],
   "source": [
    "food = stack_data(clustered, \"pct_food\", \"Food & \\nDrink\")\n",
    "service = stack_data(clustered, \"pct_service\", \"Service\")\n",
    "ambience = stack_data(clustered, \"pct_ambience\", \"Ambience\")\n",
    "value = stack_data(clustered, \"pct_value\", \"Value\")\n",
    "\n",
    "stacked = pd.concat([food, service, ambience, value], axis=0)\n",
    "print stacked.head(5)"
   ]
  },
  {
   "cell_type": "markdown",
   "metadata": {},
   "source": [
    "#### Visualize Clusters"
   ]
  },
  {
   "cell_type": "markdown",
   "metadata": {},
   "source": [
    "##### Seaborn Color Palettes"
   ]
  },
  {
   "cell_type": "code",
   "execution_count": 9,
   "metadata": {
    "collapsed": false
   },
   "outputs": [
    {
     "data": {
      "image/png": "[encoded data removed]",
      "text/plain": [
       "<matplotlib.figure.Figure at 0x10f596dd0>"
      ]
     },
     "metadata": {},
     "output_type": "display_data"
    },
    {
     "data": {
      "image/png": "[encoded data removed]",
      "text/plain": [
       "<matplotlib.figure.Figure at 0x10cfa1ed0>"
      ]
     },
     "metadata": {},
     "output_type": "display_data"
    },
    {
     "data": {
      "image/png": "[encoded data removed]",
      "text/plain": [
       "<matplotlib.figure.Figure at 0x10cfa1f90>"
      ]
     },
     "metadata": {},
     "output_type": "display_data"
    },
    {
     "data": {
      "image/png": "[encoded data removed]",
      "text/plain": [
       "<matplotlib.figure.Figure at 0x10cb1b490>"
      ]
     },
     "metadata": {},
     "output_type": "display_data"
    }
   ],
   "source": [
    "sns.palplot(sns.color_palette(\"Blues\"))\n",
    "sns.palplot(sns.color_palette(\"Reds\"))\n",
    "sns.palplot(sns.color_palette(\"Purples\"))\n",
    "sns.palplot(sns.color_palette(\"Oranges\"))"
   ]
  },
  {
   "cell_type": "markdown",
   "metadata": {},
   "source": [
    "##### Format Percent Tick Marks"
   ]
  },
  {
   "cell_type": "code",
   "execution_count": 10,
   "metadata": {
    "collapsed": false
   },
   "outputs": [],
   "source": [
    "def to_percent(x, position):\n",
    "    s = str(x)\n",
    "\n",
    "    if mpl.rcParams['text.usetex'] is True:\n",
    "        return s + r'$\\%$'\n",
    "    else:\n",
    "        return s + '%'\n",
    "\n",
    "formatter = FuncFormatter(to_percent)"
   ]
  },
  {
   "cell_type": "markdown",
   "metadata": {},
   "source": [
    "##### Plot!"
   ]
  },
  {
   "cell_type": "code",
   "execution_count": 11,
   "metadata": {
    "collapsed": false
   },
   "outputs": [
    {
     "data": {
      "image/png": "[encoded data removed]",
      "text/plain": [
       "<matplotlib.figure.Figure at 0x10c4d4790>"
      ]
     },
     "metadata": {},
     "output_type": "display_data"
    }
   ],
   "source": [
    "plt.figure(figsize=(24,12))\n",
    "\n",
    "blues = sns.color_palette(\"Blues\")[6:2:-1]\n",
    "purples = sns.color_palette(\"Purples\")[6:2:-1]\n",
    "reds = sns.color_palette(\"Reds\")[6:2:-1]\n",
    "oranges = sns.color_palette(\"Oranges\")[6:2:-1]\n",
    "\n",
    "plt.subplot(2,2,1)\n",
    "sns.barplot(x=\"percent\", y=\"topic\", orient=\"h\", ci=None, palette=blues, data=stacked[stacked.cluster==3])\n",
    "plt.tick_params(axis=\"x\", labelsize=20)\n",
    "plt.tick_params(axis=\"y\", labelsize=24)\n",
    "plt.xlabel(\"\")\n",
    "plt.ylabel(\"\")\n",
    "plt.title(\"Fanatic Foodies\", fontsize=24, fontweight=\"bold\")\n",
    "pylab.xlim([0,100])\n",
    "plt.gca().xaxis.set_major_formatter(formatter)\n",
    "\n",
    "plt.subplot(2,2,2)\n",
    "sns.barplot(x=\"percent\", y=\"topic\", orient=\"h\", ci=None, palette=purples, data=stacked[stacked.cluster==2])\n",
    "plt.tick_params(axis=\"x\", labelsize=20)\n",
    "plt.tick_params(axis=\"y\", labelsize=24)\n",
    "plt.xlabel(\"\")\n",
    "plt.ylabel(\"\")\n",
    "plt.title(\"Suckers for Service\", fontsize=24, fontweight=\"bold\")\n",
    "pylab.xlim([0,100])\n",
    "plt.gca().xaxis.set_major_formatter(formatter)\n",
    "\n",
    "plt.subplot(2,2,3)\n",
    "sns.barplot(x=\"percent\", y=\"topic\", orient=\"h\", ci=None, palette=reds, data=stacked[stacked.cluster==1])\n",
    "plt.tick_params(axis=\"x\", labelsize=20)\n",
    "plt.tick_params(axis=\"y\", labelsize=24)\n",
    "plt.xlabel(\"\")\n",
    "plt.ylabel(\"\")\n",
    "plt.title(\"Feed me Fasters\", fontsize=24, fontweight=\"bold\")\n",
    "pylab.xlim([0,100])\n",
    "plt.gca().xaxis.set_major_formatter(formatter)\n",
    "\n",
    "plt.subplot(2,2,4)\n",
    "sns.barplot(x=\"percent\", y=\"topic\", orient=\"h\", ci=None, palette=oranges, data=stacked[stacked.cluster==0])\n",
    "plt.tick_params(axis=\"x\", labelsize=20)\n",
    "plt.tick_params(axis=\"y\", labelsize=24)\n",
    "plt.xlabel(\"\")\n",
    "plt.ylabel(\"\")\n",
    "plt.title(\"Date Nighters\", fontsize=24, fontweight=\"bold\")\n",
    "pylab.xlim([0,100])\n",
    "plt.gca().xaxis.set_major_formatter(formatter)\n",
    "\n",
    "plt.savefig(\"graphics/topic_dist_by_cluster.png\")"
   ]
  },
  {
   "cell_type": "markdown",
   "metadata": {
    "collapsed": false
   },
   "source": [
    "##### Output Clustered Data for D3 Interactive Bar Graph (for Blog)"
   ]
  },
  {
   "cell_type": "code",
   "execution_count": 12,
   "metadata": {
    "collapsed": false
   },
   "outputs": [
    {
     "data": {
      "text/html": [
       "<div>\n",
       "<table border=\"1\" class=\"dataframe\">\n",
       "  <thead>\n",
       "    <tr style=\"text-align: right;\">\n",
       "      <th></th>\n",
       "      <th>user_id</th>\n",
       "      <th>topic</th>\n",
       "      <th>percent</th>\n",
       "      <th>cluster</th>\n",
       "    </tr>\n",
       "  </thead>\n",
       "  <tbody>\n",
       "    <tr>\n",
       "      <th>0</th>\n",
       "      <td>--9jRaeY1xK-2l9r9fVQWA</td>\n",
       "      <td>Food &amp; \\nDrink</td>\n",
       "      <td>67.391304</td>\n",
       "      <td>0</td>\n",
       "    </tr>\n",
       "    <tr>\n",
       "      <th>1</th>\n",
       "      <td>--ECBYLVpIfQaeX_35i63Q</td>\n",
       "      <td>Food &amp; \\nDrink</td>\n",
       "      <td>66.666667</td>\n",
       "      <td>0</td>\n",
       "    </tr>\n",
       "    <tr>\n",
       "      <th>2</th>\n",
       "      <td>--JM6F4TP_gwzIuw9QSRbA</td>\n",
       "      <td>Food &amp; \\nDrink</td>\n",
       "      <td>66.666667</td>\n",
       "      <td>3</td>\n",
       "    </tr>\n",
       "    <tr>\n",
       "      <th>3</th>\n",
       "      <td>--JzqHAkaNejih4O2O9jjw</td>\n",
       "      <td>Food &amp; \\nDrink</td>\n",
       "      <td>72.222222</td>\n",
       "      <td>1</td>\n",
       "    </tr>\n",
       "    <tr>\n",
       "      <th>4</th>\n",
       "      <td>--f43ruUt7LBeB3aU74z-w</td>\n",
       "      <td>Food &amp; \\nDrink</td>\n",
       "      <td>85.185185</td>\n",
       "      <td>3</td>\n",
       "    </tr>\n",
       "    <tr>\n",
       "      <th>5</th>\n",
       "      <td>--stXKrmDFXHOjEA9Kd0hQ</td>\n",
       "      <td>Food &amp; \\nDrink</td>\n",
       "      <td>64.285714</td>\n",
       "      <td>0</td>\n",
       "    </tr>\n",
       "    <tr>\n",
       "      <th>6</th>\n",
       "      <td>-03UjydLhAeSHlTJn_6nYA</td>\n",
       "      <td>Food &amp; \\nDrink</td>\n",
       "      <td>73.684211</td>\n",
       "      <td>1</td>\n",
       "    </tr>\n",
       "    <tr>\n",
       "      <th>7</th>\n",
       "      <td>-0B91AFtqVA5eYa1JgxOIg</td>\n",
       "      <td>Food &amp; \\nDrink</td>\n",
       "      <td>61.538462</td>\n",
       "      <td>1</td>\n",
       "    </tr>\n",
       "    <tr>\n",
       "      <th>8</th>\n",
       "      <td>-0DdjXDUionSn0AX0hv_9g</td>\n",
       "      <td>Food &amp; \\nDrink</td>\n",
       "      <td>38.461538</td>\n",
       "      <td>0</td>\n",
       "    </tr>\n",
       "    <tr>\n",
       "      <th>9</th>\n",
       "      <td>-0I8RCJIk0kgty1f5fPaFQ</td>\n",
       "      <td>Food &amp; \\nDrink</td>\n",
       "      <td>25.000000</td>\n",
       "      <td>2</td>\n",
       "    </tr>\n",
       "  </tbody>\n",
       "</table>\n",
       "</div>"
      ],
      "text/plain": [
       "                  user_id           topic    percent  cluster\n",
       "0  --9jRaeY1xK-2l9r9fVQWA  Food & \\nDrink  67.391304        0\n",
       "1  --ECBYLVpIfQaeX_35i63Q  Food & \\nDrink  66.666667        0\n",
       "2  --JM6F4TP_gwzIuw9QSRbA  Food & \\nDrink  66.666667        3\n",
       "3  --JzqHAkaNejih4O2O9jjw  Food & \\nDrink  72.222222        1\n",
       "4  --f43ruUt7LBeB3aU74z-w  Food & \\nDrink  85.185185        3\n",
       "5  --stXKrmDFXHOjEA9Kd0hQ  Food & \\nDrink  64.285714        0\n",
       "6  -03UjydLhAeSHlTJn_6nYA  Food & \\nDrink  73.684211        1\n",
       "7  -0B91AFtqVA5eYa1JgxOIg  Food & \\nDrink  61.538462        1\n",
       "8  -0DdjXDUionSn0AX0hv_9g  Food & \\nDrink  38.461538        0\n",
       "9  -0I8RCJIk0kgty1f5fPaFQ  Food & \\nDrink  25.000000        2"
      ]
     },
     "execution_count": 12,
     "metadata": {},
     "output_type": "execute_result"
    }
   ],
   "source": [
    "stacked.head(10)"
   ]
  },
  {
   "cell_type": "code",
   "execution_count": 14,
   "metadata": {
    "collapsed": false
   },
   "outputs": [
    {
     "data": {
      "text/html": [
       "<div>\n",
       "<table border=\"1\" class=\"dataframe\">\n",
       "  <thead>\n",
       "    <tr style=\"text-align: right;\">\n",
       "      <th></th>\n",
       "      <th>cluster</th>\n",
       "      <th>topic</th>\n",
       "      <th>percent</th>\n",
       "    </tr>\n",
       "  </thead>\n",
       "  <tbody>\n",
       "    <tr>\n",
       "      <th>0</th>\n",
       "      <td>Date Nighters</td>\n",
       "      <td>Ambience</td>\n",
       "      <td>31.005030</td>\n",
       "    </tr>\n",
       "    <tr>\n",
       "      <th>1</th>\n",
       "      <td>Date Nighters</td>\n",
       "      <td>Food &amp; Drink</td>\n",
       "      <td>56.915024</td>\n",
       "    </tr>\n",
       "    <tr>\n",
       "      <th>2</th>\n",
       "      <td>Date Nighters</td>\n",
       "      <td>Service</td>\n",
       "      <td>21.655000</td>\n",
       "    </tr>\n",
       "    <tr>\n",
       "      <th>3</th>\n",
       "      <td>Date Nighters</td>\n",
       "      <td>Value</td>\n",
       "      <td>11.256222</td>\n",
       "    </tr>\n",
       "    <tr>\n",
       "      <th>4</th>\n",
       "      <td>Feed me Fasters</td>\n",
       "      <td>Ambience</td>\n",
       "      <td>13.607020</td>\n",
       "    </tr>\n",
       "    <tr>\n",
       "      <th>5</th>\n",
       "      <td>Feed me Fasters</td>\n",
       "      <td>Food &amp; Drink</td>\n",
       "      <td>61.718615</td>\n",
       "    </tr>\n",
       "    <tr>\n",
       "      <th>6</th>\n",
       "      <td>Feed me Fasters</td>\n",
       "      <td>Service</td>\n",
       "      <td>34.171889</td>\n",
       "    </tr>\n",
       "    <tr>\n",
       "      <th>7</th>\n",
       "      <td>Feed me Fasters</td>\n",
       "      <td>Value</td>\n",
       "      <td>10.545508</td>\n",
       "    </tr>\n",
       "    <tr>\n",
       "      <th>8</th>\n",
       "      <td>Suckers for Service</td>\n",
       "      <td>Ambience</td>\n",
       "      <td>15.361154</td>\n",
       "    </tr>\n",
       "    <tr>\n",
       "      <th>9</th>\n",
       "      <td>Suckers for Service</td>\n",
       "      <td>Food &amp; Drink</td>\n",
       "      <td>38.926515</td>\n",
       "    </tr>\n",
       "    <tr>\n",
       "      <th>10</th>\n",
       "      <td>Suckers for Service</td>\n",
       "      <td>Service</td>\n",
       "      <td>57.733162</td>\n",
       "    </tr>\n",
       "    <tr>\n",
       "      <th>11</th>\n",
       "      <td>Suckers for Service</td>\n",
       "      <td>Value</td>\n",
       "      <td>9.613179</td>\n",
       "    </tr>\n",
       "    <tr>\n",
       "      <th>12</th>\n",
       "      <td>Fanatic Foodies</td>\n",
       "      <td>Ambience</td>\n",
       "      <td>12.934250</td>\n",
       "    </tr>\n",
       "    <tr>\n",
       "      <th>13</th>\n",
       "      <td>Fanatic Foodies</td>\n",
       "      <td>Food &amp; Drink</td>\n",
       "      <td>78.260555</td>\n",
       "    </tr>\n",
       "    <tr>\n",
       "      <th>14</th>\n",
       "      <td>Fanatic Foodies</td>\n",
       "      <td>Service</td>\n",
       "      <td>15.650731</td>\n",
       "    </tr>\n",
       "    <tr>\n",
       "      <th>15</th>\n",
       "      <td>Fanatic Foodies</td>\n",
       "      <td>Value</td>\n",
       "      <td>9.769012</td>\n",
       "    </tr>\n",
       "  </tbody>\n",
       "</table>\n",
       "</div>"
      ],
      "text/plain": [
       "                cluster         topic    percent\n",
       "0         Date Nighters      Ambience  31.005030\n",
       "1         Date Nighters  Food & Drink  56.915024\n",
       "2         Date Nighters       Service  21.655000\n",
       "3         Date Nighters         Value  11.256222\n",
       "4       Feed me Fasters      Ambience  13.607020\n",
       "5       Feed me Fasters  Food & Drink  61.718615\n",
       "6       Feed me Fasters       Service  34.171889\n",
       "7       Feed me Fasters         Value  10.545508\n",
       "8   Suckers for Service      Ambience  15.361154\n",
       "9   Suckers for Service  Food & Drink  38.926515\n",
       "10  Suckers for Service       Service  57.733162\n",
       "11  Suckers for Service         Value   9.613179\n",
       "12      Fanatic Foodies      Ambience  12.934250\n",
       "13      Fanatic Foodies  Food & Drink  78.260555\n",
       "14      Fanatic Foodies       Service  15.650731\n",
       "15      Fanatic Foodies         Value   9.769012"
      ]
     },
     "execution_count": 14,
     "metadata": {},
     "output_type": "execute_result"
    }
   ],
   "source": [
    "grouped = stacked.groupby(by=[\"cluster\",\"topic\"], as_index=False)[\"percent\"].mean()\n",
    "\n",
    "##Clean Up a Bit\n",
    "grouped.ix[grouped.topic==\"Food & \\nDrink\", \"topic\"] = \"Food & Drink\"\n",
    "grouped.ix[grouped.cluster==3, \"cluster\"] = \"Fanatic Foodies\"\n",
    "grouped.ix[grouped.cluster==2, \"cluster\"] = \"Suckers for Service\"\n",
    "grouped.ix[grouped.cluster==1, \"cluster\"] = \"Feed me Fasters\"\n",
    "grouped.ix[grouped.cluster==0, \"cluster\"] = \"Date Nighters\"\n",
    "grouped"
   ]
  },
  {
   "cell_type": "code",
   "execution_count": 17,
   "metadata": {
    "collapsed": false
   },
   "outputs": [
    {
     "data": {
      "text/html": [
       "<div>\n",
       "<table border=\"1\" class=\"dataframe\">\n",
       "  <thead>\n",
       "    <tr style=\"text-align: right;\">\n",
       "      <th></th>\n",
       "      <th>cluster</th>\n",
       "      <th>topic</th>\n",
       "      <th>percent</th>\n",
       "    </tr>\n",
       "  </thead>\n",
       "  <tbody>\n",
       "    <tr>\n",
       "      <th>12</th>\n",
       "      <td>Fanatic Foodies</td>\n",
       "      <td>Ambience</td>\n",
       "      <td>12.934250</td>\n",
       "    </tr>\n",
       "    <tr>\n",
       "      <th>13</th>\n",
       "      <td>Fanatic Foodies</td>\n",
       "      <td>Food &amp; Drink</td>\n",
       "      <td>78.260555</td>\n",
       "    </tr>\n",
       "    <tr>\n",
       "      <th>14</th>\n",
       "      <td>Fanatic Foodies</td>\n",
       "      <td>Service</td>\n",
       "      <td>15.650731</td>\n",
       "    </tr>\n",
       "    <tr>\n",
       "      <th>15</th>\n",
       "      <td>Fanatic Foodies</td>\n",
       "      <td>Value</td>\n",
       "      <td>9.769012</td>\n",
       "    </tr>\n",
       "  </tbody>\n",
       "</table>\n",
       "</div>"
      ],
      "text/plain": [
       "            cluster         topic    percent\n",
       "12  Fanatic Foodies      Ambience  12.934250\n",
       "13  Fanatic Foodies  Food & Drink  78.260555\n",
       "14  Fanatic Foodies       Service  15.650731\n",
       "15  Fanatic Foodies         Value   9.769012"
      ]
     },
     "execution_count": 17,
     "metadata": {},
     "output_type": "execute_result"
    }
   ],
   "source": [
    "##Output\n",
    "foodies=grouped.ix[grouped.cluster==\"Fanatic Foodies\"]\n",
    "foodies"
   ]
  },
  {
   "cell_type": "code",
   "execution_count": 18,
   "metadata": {
    "collapsed": false
   },
   "outputs": [
    {
     "data": {
      "text/html": [
       "<div>\n",
       "<table border=\"1\" class=\"dataframe\">\n",
       "  <thead>\n",
       "    <tr style=\"text-align: right;\">\n",
       "      <th></th>\n",
       "      <th>cluster</th>\n",
       "      <th>topic</th>\n",
       "      <th>percent</th>\n",
       "    </tr>\n",
       "  </thead>\n",
       "  <tbody>\n",
       "    <tr>\n",
       "      <th>0</th>\n",
       "      <td>Date Nighters</td>\n",
       "      <td>Ambience</td>\n",
       "      <td>31.005030</td>\n",
       "    </tr>\n",
       "    <tr>\n",
       "      <th>1</th>\n",
       "      <td>Date Nighters</td>\n",
       "      <td>Food &amp; Drink</td>\n",
       "      <td>56.915024</td>\n",
       "    </tr>\n",
       "    <tr>\n",
       "      <th>2</th>\n",
       "      <td>Date Nighters</td>\n",
       "      <td>Service</td>\n",
       "      <td>21.655000</td>\n",
       "    </tr>\n",
       "    <tr>\n",
       "      <th>3</th>\n",
       "      <td>Date Nighters</td>\n",
       "      <td>Value</td>\n",
       "      <td>11.256222</td>\n",
       "    </tr>\n",
       "    <tr>\n",
       "      <th>4</th>\n",
       "      <td>Feed me Fasters</td>\n",
       "      <td>Ambience</td>\n",
       "      <td>13.607020</td>\n",
       "    </tr>\n",
       "  </tbody>\n",
       "</table>\n",
       "</div>"
      ],
      "text/plain": [
       "           cluster         topic    percent\n",
       "0    Date Nighters      Ambience  31.005030\n",
       "1    Date Nighters  Food & Drink  56.915024\n",
       "2    Date Nighters       Service  21.655000\n",
       "3    Date Nighters         Value  11.256222\n",
       "4  Feed me Fasters      Ambience  13.607020"
      ]
     },
     "execution_count": 18,
     "metadata": {},
     "output_type": "execute_result"
    }
   ],
   "source": [
    "grouped.to_csv(\"graphics/d3/clusters.tsv\", sep=\"\\t\", index=False)\n",
    "grouped[grouped.cluster==\"Fanatic Foodies\"].to_csv(\"graphics/d3/foodies.tsv\", sep=\"\\t\", index=False)\n",
    "grouped.head(5)"
   ]
  },
  {
   "cell_type": "code",
   "execution_count": null,
   "metadata": {
    "collapsed": false
   },
   "outputs": [],
   "source": []
  },
  {
   "cell_type": "code",
   "execution_count": null,
   "metadata": {
    "collapsed": false
   },
   "outputs": [],
   "source": []
  },
  {
   "cell_type": "code",
   "execution_count": null,
   "metadata": {
    "collapsed": true
   },
   "outputs": [],
   "source": []
  }
 ],
 "metadata": {
  "kernelspec": {
   "display_name": "Python 2",
   "language": "python",
   "name": "python2"
  },
  "language_info": {
   "codemirror_mode": {
    "name": "ipython",
    "version": 2
   },
   "file_extension": ".py",
   "mimetype": "text/x-python",
   "name": "python",
   "nbconvert_exporter": "python",
   "pygments_lexer": "ipython2",
   "version": "2.7.10"
  }
 },
 "nbformat": 4,
 "nbformat_minor": 0
}
